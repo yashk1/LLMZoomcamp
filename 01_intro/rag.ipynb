{
 "cells": [
  {
   "cell_type": "markdown",
   "metadata": {},
   "source": [
    "# Get the data\n",
    "\n",
    "The below link gets the faq documents in a json format. \n",
    "\n",
    "There is a script that was used to parse the faq from Google docs to Json using python\n",
    "https://github.com/dimzachar/llm_zoomcamp/blob/master/notes/01-intro/retrieval-with-minsearch.md\n",
    "\n",
    "this was covered in another workshop"
   ]
  },
  {
   "cell_type": "code",
   "execution_count": 1,
   "metadata": {},
   "outputs": [],
   "source": [
    "# !wget https://raw.githubusercontent.com/DataTalksClub/llm-zoomcamp/main/01-intro/documents.json"
   ]
  },
  {
   "cell_type": "code",
   "execution_count": 74,
   "metadata": {},
   "outputs": [],
   "source": [
    "import json\n",
    "import minSearch"
   ]
  },
  {
   "cell_type": "code",
   "execution_count": 75,
   "metadata": {},
   "outputs": [],
   "source": [
    "with open('documents.json','rt') as f_in:\n",
    "    docs_raw = json.load(f_in)"
   ]
  },
  {
   "cell_type": "code",
   "execution_count": 76,
   "metadata": {},
   "outputs": [
    {
     "data": {
      "text/plain": [
       "[{'text': \"The purpose of this document is to capture frequently asked technical questions\\nThe exact day and hour of the course will be 15th Jan 2024 at 17h00. The course will start with the first  “Office Hours'' live.1\\nSubscribe to course public Google Calendar (it works from Desktop only).\\nRegister before the course starts using this link.\\nJoin the course Telegram channel with announcements.\\nDon’t forget to register in DataTalks.Club's Slack and join the channel.\",\n",
       "  'section': 'General course-related questions',\n",
       "  'question': 'Course - When will the course start?',\n",
       "  'course': 'data-engineering-zoomcamp'},\n",
       " {'text': 'GitHub - DataTalksClub data-engineering-zoomcamp#prerequisites',\n",
       "  'section': 'General course-related questions',\n",
       "  'question': 'Course - What are the prerequisites for this course?',\n",
       "  'course': 'data-engineering-zoomcamp'}]"
      ]
     },
     "execution_count": 76,
     "metadata": {},
     "output_type": "execute_result"
    }
   ],
   "source": [
    "documents = []\n",
    "\n",
    "for course_dict in docs_raw:\n",
    "    for doc in course_dict['documents']:\n",
    "        doc['course'] = course_dict['course']\n",
    "        documents.append(doc)\n",
    "        \n",
    "documents[:2] #list of dictioanry with all the document questions\n",
    "\n",
    "# STRUCTURE \n",
    "# text: answer to the question\n",
    "# section: section question belongs to\n",
    "# question: actual question\n",
    "# course: what course question belongs to"
   ]
  },
  {
   "cell_type": "code",
   "execution_count": 77,
   "metadata": {},
   "outputs": [
    {
     "data": {
      "text/html": [
       "<div>\n",
       "<style scoped>\n",
       "    .dataframe tbody tr th:only-of-type {\n",
       "        vertical-align: middle;\n",
       "    }\n",
       "\n",
       "    .dataframe tbody tr th {\n",
       "        vertical-align: top;\n",
       "    }\n",
       "\n",
       "    .dataframe thead th {\n",
       "        text-align: right;\n",
       "    }\n",
       "</style>\n",
       "<table border=\"1\" class=\"dataframe\">\n",
       "  <thead>\n",
       "    <tr style=\"text-align: right;\">\n",
       "      <th></th>\n",
       "      <th>text</th>\n",
       "      <th>section</th>\n",
       "      <th>question</th>\n",
       "    </tr>\n",
       "    <tr>\n",
       "      <th>course</th>\n",
       "      <th></th>\n",
       "      <th></th>\n",
       "      <th></th>\n",
       "    </tr>\n",
       "  </thead>\n",
       "  <tbody>\n",
       "    <tr>\n",
       "      <th>data-engineering-zoomcamp</th>\n",
       "      <td>435</td>\n",
       "      <td>435</td>\n",
       "      <td>435</td>\n",
       "    </tr>\n",
       "    <tr>\n",
       "      <th>machine-learning-zoomcamp</th>\n",
       "      <td>375</td>\n",
       "      <td>375</td>\n",
       "      <td>375</td>\n",
       "    </tr>\n",
       "    <tr>\n",
       "      <th>mlops-zoomcamp</th>\n",
       "      <td>138</td>\n",
       "      <td>138</td>\n",
       "      <td>138</td>\n",
       "    </tr>\n",
       "  </tbody>\n",
       "</table>\n",
       "</div>"
      ],
      "text/plain": [
       "                           text  section  question\n",
       "course                                            \n",
       "data-engineering-zoomcamp   435      435       435\n",
       "machine-learning-zoomcamp   375      375       375\n",
       "mlops-zoomcamp              138      138       138"
      ]
     },
     "execution_count": 77,
     "metadata": {},
     "output_type": "execute_result"
    }
   ],
   "source": [
    "import pandas as pd\n",
    "docs_df = pd.DataFrame(documents)\n",
    "docs_df.groupby('course').count()"
   ]
  },
  {
   "cell_type": "markdown",
   "metadata": {},
   "source": [
    "## Indexing documents using minSearch"
   ]
  },
  {
   "cell_type": "code",
   "execution_count": 78,
   "metadata": {},
   "outputs": [],
   "source": [
    "index = minSearch.Index(\n",
    "    text_fields=['question', 'text', 'section'], #similarity matching, processed for TF-IDF vectorization\n",
    "    keyword_fields=['course'] # exact matching\n",
    ")"
   ]
  },
  {
   "cell_type": "code",
   "execution_count": 79,
   "metadata": {},
   "outputs": [],
   "source": [
    "q = 'the course has already started, can i still join?'"
   ]
  },
  {
   "cell_type": "code",
   "execution_count": 80,
   "metadata": {},
   "outputs": [
    {
     "data": {
      "text/plain": [
       "<minSearch.Index at 0x158e64530>"
      ]
     },
     "execution_count": 80,
     "metadata": {},
     "output_type": "execute_result"
    }
   ],
   "source": [
    "index.fit(documents)"
   ]
  },
  {
   "cell_type": "code",
   "execution_count": 81,
   "metadata": {},
   "outputs": [
    {
     "data": {
      "text/plain": [
       "[{'text': \"Yes, even if you don't register, you're still eligible to submit the homeworks.\\nBe aware, however, that there will be deadlines for turning in the final projects. So don't leave everything for the last minute.\",\n",
       "  'section': 'General course-related questions',\n",
       "  'question': 'Course - Can I still join the course after the start date?',\n",
       "  'course': 'data-engineering-zoomcamp'},\n",
       " {'text': \"The purpose of this document is to capture frequently asked technical questions\\nThe exact day and hour of the course will be 15th Jan 2024 at 17h00. The course will start with the first  “Office Hours'' live.1\\nSubscribe to course public Google Calendar (it works from Desktop only).\\nRegister before the course starts using this link.\\nJoin the course Telegram channel with announcements.\\nDon’t forget to register in DataTalks.Club's Slack and join the channel.\",\n",
       "  'section': 'General course-related questions',\n",
       "  'question': 'Course - When will the course start?',\n",
       "  'course': 'data-engineering-zoomcamp'},\n",
       " {'text': 'Yes, we will keep all the materials after the course finishes, so you can follow the course at your own pace after it finishes.\\nYou can also continue looking at the homeworks and continue preparing for the next cohort. I guess you can also start working on your final capstone project.',\n",
       "  'section': 'General course-related questions',\n",
       "  'question': 'Course - Can I follow the course after it finishes?',\n",
       "  'course': 'data-engineering-zoomcamp'},\n",
       " {'text': 'You can start by installing and setting up all the dependencies and requirements:\\nGoogle cloud account\\nGoogle Cloud SDK\\nPython 3 (installed with Anaconda)\\nTerraform\\nGit\\nLook over the prerequisites and syllabus to see if you are comfortable with these subjects.',\n",
       "  'section': 'General course-related questions',\n",
       "  'question': 'Course - What can I do before the course starts?',\n",
       "  'course': 'data-engineering-zoomcamp'},\n",
       " {'text': 'Yes, the slack channel remains open and you can ask questions there. But always sDocker containers exit code w search the channel first and second, check the FAQ (this document), most likely all your questions are already answered here.\\nYou can also tag the bot @ZoomcampQABot to help you conduct the search, but don’t rely on its answers 100%, it is pretty good though.',\n",
       "  'section': 'General course-related questions',\n",
       "  'question': 'Course - Can I get support if I take the course in the self-paced mode?',\n",
       "  'course': 'data-engineering-zoomcamp'}]"
      ]
     },
     "execution_count": 81,
     "metadata": {},
     "output_type": "execute_result"
    }
   ],
   "source": [
    "boost = {'question': 3.0, 'section':0.5} # when we know one field is important than other. like course\n",
    "\n",
    "results = index.search(\n",
    "    query=q,\n",
    "    boost_dict=boost,\n",
    "    filter_dict={'course': 'data-engineering-zoomcamp'}, \n",
    "    num_results=5\n",
    ")\n",
    "results"
   ]
  },
  {
   "cell_type": "markdown",
   "metadata": {},
   "source": [
    "## Generating answer with Claude"
   ]
  },
  {
   "cell_type": "code",
   "execution_count": 82,
   "metadata": {},
   "outputs": [
    {
     "data": {
      "text/plain": [
       "True"
      ]
     },
     "execution_count": 82,
     "metadata": {},
     "output_type": "execute_result"
    }
   ],
   "source": [
    "import anthropic\n",
    "from dotenv import load_dotenv\n",
    "import os\n",
    "\n",
    "# Load environment variables from .env file into script environment\n",
    "load_dotenv()\n"
   ]
  },
  {
   "cell_type": "code",
   "execution_count": 83,
   "metadata": {},
   "outputs": [
    {
     "data": {
      "text/plain": [
       "'the course has already started, can i still join?'"
      ]
     },
     "execution_count": 83,
     "metadata": {},
     "output_type": "execute_result"
    }
   ],
   "source": [
    "q"
   ]
  },
  {
   "cell_type": "code",
   "execution_count": 45,
   "metadata": {},
   "outputs": [
    {
     "name": "stdout",
     "output_type": "stream",
     "text": [
      "Message(id='msg_01EvtSFiKXWGihAmM1yCFuvn', content=[TextBlock(text=\"I apologize, but I don't have specific information about any particular course or its enrollment policies. Whether you can join a course that has already started depends on several factors:\\n\\n1. The course's specific policies\\n2. How far along the course is\\n3. The institution or platform offering the course\\n4. The nature of the course (online, in-person, self-paced, etc.)\\n\\nTo get an accurate answer, you should:\\n\\n1. Contact the course instructor or the institution offering the course directly.\\n2. Check the course syllabus or website for late enrollment policies.\\n3. If it's an online course on a platform like Coursera or edX, check their policies on joining courses in progress.\\n\\nSome courses may allow late enrollment with the understanding that you'll need to catch up, while others might be more strict. It's best to inquire directly for the most accurate and up-to-date information.\", type='text')], model='claude-3-5-sonnet-20240620', role='assistant', stop_reason='end_turn', stop_sequence=None, type='message', usage=Usage(input_tokens=18, output_tokens=201))\n"
     ]
    }
   ],
   "source": [
    "client = anthropic.Anthropic()\n",
    "\n",
    "message = client.messages.create(\n",
    "    model=\"claude-3-5-sonnet-20240620\",\n",
    "    max_tokens=1024,\n",
    "    messages=[\n",
    "        {\"role\": \"user\", \"content\": q}\n",
    "    ]\n",
    ")\n",
    "print(message)"
   ]
  },
  {
   "cell_type": "code",
   "execution_count": 55,
   "metadata": {},
   "outputs": [],
   "source": [
    "# steps: Write a query as a user -> Query goes and searches documents -> matched documents gets extracted -> generate prompt by passing matched docs as \"context\" >> LLM recieves it and generates a response"
   ]
  },
  {
   "cell_type": "code",
   "execution_count": 56,
   "metadata": {},
   "outputs": [],
   "source": [
    "# def search - that searches docs based on query\n",
    "# def gererate a prompt - pass serach results as context\n",
    "# call llm with the prompt"
   ]
  },
  {
   "cell_type": "code",
   "execution_count": 12,
   "metadata": {},
   "outputs": [],
   "source": [
    "def search(query):\n",
    "    boost = {'question': 3.0, 'section': 0.5}\n",
    "\n",
    "    results = index.search(\n",
    "        query=query,\n",
    "        filter_dict={'course': 'data-engineering-zoomcamp'},\n",
    "        boost_dict=boost,\n",
    "        num_results=5\n",
    "    )\n",
    "\n",
    "    return results"
   ]
  },
  {
   "cell_type": "code",
   "execution_count": 13,
   "metadata": {},
   "outputs": [
    {
     "data": {
      "text/plain": [
       "[{'text': \"Yes, even if you don't register, you're still eligible to submit the homeworks.\\nBe aware, however, that there will be deadlines for turning in the final projects. So don't leave everything for the last minute.\",\n",
       "  'section': 'General course-related questions',\n",
       "  'question': 'Course - Can I still join the course after the start date?',\n",
       "  'course': 'data-engineering-zoomcamp'},\n",
       " {'text': \"The purpose of this document is to capture frequently asked technical questions\\nThe exact day and hour of the course will be 15th Jan 2024 at 17h00. The course will start with the first  “Office Hours'' live.1\\nSubscribe to course public Google Calendar (it works from Desktop only).\\nRegister before the course starts using this link.\\nJoin the course Telegram channel with announcements.\\nDon’t forget to register in DataTalks.Club's Slack and join the channel.\",\n",
       "  'section': 'General course-related questions',\n",
       "  'question': 'Course - When will the course start?',\n",
       "  'course': 'data-engineering-zoomcamp'},\n",
       " {'text': 'Yes, we will keep all the materials after the course finishes, so you can follow the course at your own pace after it finishes.\\nYou can also continue looking at the homeworks and continue preparing for the next cohort. I guess you can also start working on your final capstone project.',\n",
       "  'section': 'General course-related questions',\n",
       "  'question': 'Course - Can I follow the course after it finishes?',\n",
       "  'course': 'data-engineering-zoomcamp'},\n",
       " {'text': 'You can start by installing and setting up all the dependencies and requirements:\\nGoogle cloud account\\nGoogle Cloud SDK\\nPython 3 (installed with Anaconda)\\nTerraform\\nGit\\nLook over the prerequisites and syllabus to see if you are comfortable with these subjects.',\n",
       "  'section': 'General course-related questions',\n",
       "  'question': 'Course - What can I do before the course starts?',\n",
       "  'course': 'data-engineering-zoomcamp'},\n",
       " {'text': 'Yes, the slack channel remains open and you can ask questions there. But always sDocker containers exit code w search the channel first and second, check the FAQ (this document), most likely all your questions are already answered here.\\nYou can also tag the bot @ZoomcampQABot to help you conduct the search, but don’t rely on its answers 100%, it is pretty good though.',\n",
       "  'section': 'General course-related questions',\n",
       "  'question': 'Course - Can I get support if I take the course in the self-paced mode?',\n",
       "  'course': 'data-engineering-zoomcamp'}]"
      ]
     },
     "execution_count": 13,
     "metadata": {},
     "output_type": "execute_result"
    }
   ],
   "source": [
    "search(q)"
   ]
  },
  {
   "cell_type": "code",
   "execution_count": 14,
   "metadata": {},
   "outputs": [],
   "source": [
    "def build_prompt(query, search_results):\n",
    "    prompt_template = \"\"\" \n",
    "    You're a course teaching assistant. Answer the QUESTION based on the CONTEXT from the FAQ database.\n",
    "    Use only the facts from the CONTEXT when answering the QUESTION.\n",
    "\n",
    "    QUESTION: {question}\n",
    "\n",
    "    CONTEXT: \n",
    "    {context}\n",
    "    \"\"\".strip()\n",
    "    \n",
    "    context = \"\"\n",
    "    for doc in search_results:\n",
    "        context += f'section: {doc['section']}\\nquestion: {doc['question']}\\ncourse: {doc['course']}\\nanswer: {doc['text']}'\n",
    "        \n",
    "    prompt = prompt_template.format(question=query, context = context)\n",
    "    return prompt\n",
    "    "
   ]
  },
  {
   "cell_type": "code",
   "execution_count": 15,
   "metadata": {},
   "outputs": [
    {
     "data": {
      "text/plain": [
       "\"You're a course teaching assistant. Answer the QUESTION based on the CONTEXT from the FAQ database.\\n    Use only the facts from the CONTEXT when answering the QUESTION.\\n\\n    QUESTION: the course has already started, can i still join?\\n\\n    CONTEXT: \\n    section: General course-related questions\\nquestion: Course - Can I still join the course after the start date?\\ncourse: data-engineering-zoomcamp\\nanswer: Yes, even if you don't register, you're still eligible to submit the homeworks.\\nBe aware, however, that there will be deadlines for turning in the final projects. So don't leave everything for the last minute.section: General course-related questions\\nquestion: Course - When will the course start?\\ncourse: data-engineering-zoomcamp\\nanswer: The purpose of this document is to capture frequently asked technical questions\\nThe exact day and hour of the course will be 15th Jan 2024 at 17h00. The course will start with the first  “Office Hours'' live.1\\nSubscribe to course public Google Calendar (it works from Desktop only).\\nRegister before the course starts using this link.\\nJoin the course Telegram channel with announcements.\\nDon’t forget to register in DataTalks.Club's Slack and join the channel.section: General course-related questions\\nquestion: Course - Can I follow the course after it finishes?\\ncourse: data-engineering-zoomcamp\\nanswer: Yes, we will keep all the materials after the course finishes, so you can follow the course at your own pace after it finishes.\\nYou can also continue looking at the homeworks and continue preparing for the next cohort. I guess you can also start working on your final capstone project.section: General course-related questions\\nquestion: Course - What can I do before the course starts?\\ncourse: data-engineering-zoomcamp\\nanswer: You can start by installing and setting up all the dependencies and requirements:\\nGoogle cloud account\\nGoogle Cloud SDK\\nPython 3 (installed with Anaconda)\\nTerraform\\nGit\\nLook over the prerequisites and syllabus to see if you are comfortable with these subjects.section: General course-related questions\\nquestion: Course - Can I get support if I take the course in the self-paced mode?\\ncourse: data-engineering-zoomcamp\\nanswer: Yes, the slack channel remains open and you can ask questions there. But always sDocker containers exit code w search the channel first and second, check the FAQ (this document), most likely all your questions are already answered here.\\nYou can also tag the bot @ZoomcampQABot to help you conduct the search, but don’t rely on its answers 100%, it is pretty good though.\""
      ]
     },
     "execution_count": 15,
     "metadata": {},
     "output_type": "execute_result"
    }
   ],
   "source": [
    "build_prompt(q,search(q))"
   ]
  },
  {
   "cell_type": "code",
   "execution_count": 84,
   "metadata": {},
   "outputs": [],
   "source": [
    "def llm(prompt):\n",
    "    import anthropic\n",
    "    client = anthropic.Anthropic()\n",
    "    message = client.messages.create(\n",
    "    model=\"claude-3-5-sonnet-20240620\",\n",
    "    max_tokens=256,\n",
    "    messages=[\n",
    "        {\"role\": \"user\", \"content\": prompt}\n",
    "    ]\n",
    ")\n",
    "    \n",
    "    return message.content[0].text"
   ]
  },
  {
   "cell_type": "code",
   "execution_count": 72,
   "metadata": {},
   "outputs": [],
   "source": [
    "query = 'What is Data Engineering Zoomcamp? Can it help someone become a data engineer? Write in short'\n",
    "\n",
    "def rag(query):\n",
    "    search_results = search(query)\n",
    "    prompt = build_prompt(query, search_results)\n",
    "    answer = llm(prompt)\n",
    "    return answer"
   ]
  },
  {
   "cell_type": "code",
   "execution_count": 73,
   "metadata": {},
   "outputs": [
    {
     "ename": "AttributeError",
     "evalue": "'str' object has no attribute 'search'",
     "output_type": "error",
     "traceback": [
      "\u001b[0;31m---------------------------------------------------------------------------\u001b[0m",
      "\u001b[0;31mAttributeError\u001b[0m                            Traceback (most recent call last)",
      "Cell \u001b[0;32mIn[73], line 1\u001b[0m\n\u001b[0;32m----> 1\u001b[0m \u001b[43mrag\u001b[49m\u001b[43m(\u001b[49m\u001b[38;5;124;43m'\u001b[39;49m\u001b[38;5;124;43mthe course has already started, can I still enroll?\u001b[39;49m\u001b[38;5;124;43m'\u001b[39;49m\u001b[43m)\u001b[49m\n",
      "Cell \u001b[0;32mIn[72], line 4\u001b[0m, in \u001b[0;36mrag\u001b[0;34m(query)\u001b[0m\n\u001b[1;32m      3\u001b[0m \u001b[38;5;28;01mdef\u001b[39;00m \u001b[38;5;21mrag\u001b[39m(query):\n\u001b[0;32m----> 4\u001b[0m     search_results \u001b[38;5;241m=\u001b[39m \u001b[43msearch\u001b[49m\u001b[43m(\u001b[49m\u001b[43mquery\u001b[49m\u001b[43m)\u001b[49m\n\u001b[1;32m      5\u001b[0m     prompt \u001b[38;5;241m=\u001b[39m build_prompt(query, search_results)\n\u001b[1;32m      6\u001b[0m     answer \u001b[38;5;241m=\u001b[39m llm(prompt)\n",
      "Cell \u001b[0;32mIn[12], line 4\u001b[0m, in \u001b[0;36msearch\u001b[0;34m(query)\u001b[0m\n\u001b[1;32m      1\u001b[0m \u001b[38;5;28;01mdef\u001b[39;00m \u001b[38;5;21msearch\u001b[39m(query):\n\u001b[1;32m      2\u001b[0m     boost \u001b[38;5;241m=\u001b[39m {\u001b[38;5;124m'\u001b[39m\u001b[38;5;124mquestion\u001b[39m\u001b[38;5;124m'\u001b[39m: \u001b[38;5;241m3.0\u001b[39m, \u001b[38;5;124m'\u001b[39m\u001b[38;5;124msection\u001b[39m\u001b[38;5;124m'\u001b[39m: \u001b[38;5;241m0.5\u001b[39m}\n\u001b[0;32m----> 4\u001b[0m     results \u001b[38;5;241m=\u001b[39m \u001b[43mindex\u001b[49m\u001b[38;5;241;43m.\u001b[39;49m\u001b[43msearch\u001b[49m(\n\u001b[1;32m      5\u001b[0m         query\u001b[38;5;241m=\u001b[39mquery,\n\u001b[1;32m      6\u001b[0m         filter_dict\u001b[38;5;241m=\u001b[39m{\u001b[38;5;124m'\u001b[39m\u001b[38;5;124mcourse\u001b[39m\u001b[38;5;124m'\u001b[39m: \u001b[38;5;124m'\u001b[39m\u001b[38;5;124mdata-engineering-zoomcamp\u001b[39m\u001b[38;5;124m'\u001b[39m},\n\u001b[1;32m      7\u001b[0m         boost_dict\u001b[38;5;241m=\u001b[39mboost,\n\u001b[1;32m      8\u001b[0m         num_results\u001b[38;5;241m=\u001b[39m\u001b[38;5;241m5\u001b[39m\n\u001b[1;32m      9\u001b[0m     )\n\u001b[1;32m     11\u001b[0m     \u001b[38;5;28;01mreturn\u001b[39;00m results\n",
      "\u001b[0;31mAttributeError\u001b[0m: 'str' object has no attribute 'search'"
     ]
    }
   ],
   "source": [
    "rag('the course has already started, can I still enroll?')\n"
   ]
  },
  {
   "cell_type": "code",
   "execution_count": 61,
   "metadata": {},
   "outputs": [
    {
     "data": {
      "text/plain": [
       "\"Data Engineering Zoomcamp is a comprehensive course that can indeed help someone become a data engineer. Here's a brief overview:\\n\\nThe course covers essential topics in data engineering, including:\\n\\n1. Docker and Terraform for containerization and infrastructure management\\n2. Workflow orchestration\\n3. Data warehousing\\n4. Stream processing with Kafka\\n5. Batch processing\\n\\nIt provides hands-on experience through practical exercises and homework assignments, allowing students to work with real-world tools and technologies used in the field. The course structure and content are designed to equip participants with the skills and knowledge needed to pursue a career in data engineering.\""
      ]
     },
     "execution_count": 61,
     "metadata": {},
     "output_type": "execute_result"
    }
   ],
   "source": [
    "rag(query)"
   ]
  },
  {
   "cell_type": "markdown",
   "metadata": {},
   "source": [
    "# Spin up an ElasticSearch container\n",
    "\n",
    "what is elastic searhc?\n",
    "https://www.youtube.com/watch?v=ZP0NmfyfsoM&pp=ygUOZWxhc3RpYyBzZWFyY2g%3D"
   ]
  },
  {
   "cell_type": "code",
   "execution_count": 3,
   "metadata": {},
   "outputs": [],
   "source": [
    "# docker run -it \\\n",
    "#     --rm \\\n",
    "#     --name elasticsearch \\\n",
    "#     -m 4GB \\\n",
    "#     -p 9200:9200 \\\n",
    "#     -p 9300:9300 \\\n",
    "#     -e \"discovery.type=single-node\" \\\n",
    "#     -e \"xpack.security.enabled=false\" \\\n",
    "#     docker.elastic.co/elasticsearch/elasticsearch:8.4.3\n",
    "\n",
    "\n",
    "# check response from docker elastic search - curl http://localhost:9200\n"
   ]
  },
  {
   "cell_type": "markdown",
   "metadata": {},
   "source": [
    "# Ingest the document to ElasticSearch - [indexing]\n",
    "- Elastic search is persistant means it will store the data even after shutting down the docker\n"
   ]
  },
  {
   "cell_type": "code",
   "execution_count": 18,
   "metadata": {},
   "outputs": [
    {
     "data": {
      "text/plain": [
       "{'text': \"The purpose of this document is to capture frequently asked technical questions\\nThe exact day and hour of the course will be 15th Jan 2024 at 17h00. The course will start with the first  “Office Hours'' live.1\\nSubscribe to course public Google Calendar (it works from Desktop only).\\nRegister before the course starts using this link.\\nJoin the course Telegram channel with announcements.\\nDon’t forget to register in DataTalks.Club's Slack and join the channel.\",\n",
       " 'section': 'General course-related questions',\n",
       " 'question': 'Course - When will the course start?',\n",
       " 'course': 'data-engineering-zoomcamp'}"
      ]
     },
     "execution_count": 18,
     "metadata": {},
     "output_type": "execute_result"
    }
   ],
   "source": [
    "documents[0]"
   ]
  },
  {
   "cell_type": "code",
   "execution_count": 3,
   "metadata": {},
   "outputs": [],
   "source": [
    "from elasticsearch import Elasticsearch\n",
    "from tqdm.auto import tqdm"
   ]
  },
  {
   "cell_type": "code",
   "execution_count": 21,
   "metadata": {},
   "outputs": [],
   "source": [
    "es_client = Elasticsearch('http://localhost:9200')"
   ]
  },
  {
   "cell_type": "code",
   "execution_count": 22,
   "metadata": {},
   "outputs": [
    {
     "data": {
      "text/plain": [
       "ObjectApiResponse({'name': '5c83f0e2e1e8', 'cluster_name': 'docker-cluster', 'cluster_uuid': 'NoESQU1aRkevW5oESnnb8w', 'version': {'number': '8.4.3', 'build_flavor': 'default', 'build_type': 'docker', 'build_hash': '42f05b9372a9a4a470db3b52817899b99a76ee73', 'build_date': '2022-10-04T07:17:24.662462378Z', 'build_snapshot': False, 'lucene_version': '9.3.0', 'minimum_wire_compatibility_version': '7.17.0', 'minimum_index_compatibility_version': '7.0.0'}, 'tagline': 'You Know, for Search'})"
      ]
     },
     "execution_count": 22,
     "metadata": {},
     "output_type": "execute_result"
    }
   ],
   "source": [
    "es_client.info()"
   ]
  },
  {
   "cell_type": "code",
   "execution_count": 45,
   "metadata": {},
   "outputs": [
    {
     "data": {
      "text/plain": [
       "ObjectApiResponse({'acknowledged': True, 'shards_acknowledged': True, 'index': 'course-questions'})"
      ]
     },
     "execution_count": 45,
     "metadata": {},
     "output_type": "execute_result"
    }
   ],
   "source": [
    "index_settings = {\n",
    "    'settings': {\n",
    "        'number_of_shards':1,\n",
    "        'number_of_replicas':0\n",
    "    },\n",
    "    'mappings': {\n",
    "        'properties': {\n",
    "            'text': {'type':'text'},\n",
    "            'section': {'type':'text'},\n",
    "            'question': {'type':'text'},\n",
    "            'course': {'type':'keyword'},\n",
    "        }\n",
    "    }\n",
    "}\n",
    "\n",
    "index_name = 'course-questions'\n",
    "\n",
    "es_client.indices.create(index=index_name, body=index_settings)"
   ]
  },
  {
   "cell_type": "code",
   "execution_count": 46,
   "metadata": {},
   "outputs": [
    {
     "name": "stdout",
     "output_type": "stream",
     "text": [
      "course-questions\n"
     ]
    }
   ],
   "source": [
    "# List all indices\n",
    "indices_response = es_client.cat.indices(format='json')\n",
    "\n",
    "# Print the indices\n",
    "for index_info in indices_response:\n",
    "    print(index_info['index'])"
   ]
  },
  {
   "cell_type": "code",
   "execution_count": 43,
   "metadata": {},
   "outputs": [
    {
     "name": "stdout",
     "output_type": "stream",
     "text": [
      "{'acknowledged': True}\n"
     ]
    }
   ],
   "source": [
    "# #deleting index\n",
    "# response = es_client.indices.delete(index='course-questions')\n",
    "# print(response)"
   ]
  },
  {
   "cell_type": "code",
   "execution_count": 47,
   "metadata": {},
   "outputs": [
    {
     "name": "stderr",
     "output_type": "stream",
     "text": [
      "100%|██████████| 948/948 [00:01<00:00, 483.68it/s]\n"
     ]
    }
   ],
   "source": [
    "for doc in tqdm(documents):\n",
    "    es_client.index(index=index_name, document=doc)"
   ]
  },
  {
   "cell_type": "code",
   "execution_count": 48,
   "metadata": {},
   "outputs": [
    {
     "data": {
      "text/plain": [
       "'the course has already started, can i still join?'"
      ]
     },
     "execution_count": 48,
     "metadata": {},
     "output_type": "execute_result"
    }
   ],
   "source": [
    "q = 'the course has already started, can i still join?'\n",
    "q"
   ]
  },
  {
   "cell_type": "code",
   "execution_count": 49,
   "metadata": {},
   "outputs": [
    {
     "name": "stdout",
     "output_type": "stream",
     "text": [
      "{'took': 4, 'timed_out': False, '_shards': {'total': 1, 'successful': 1, 'skipped': 0, 'failed': 0}, 'hits': {'total': {'value': 948, 'relation': 'eq'}, 'max_score': 1.0, 'hits': [{'_index': 'course-questions', '_id': '26qwhJAB9W3OmpxwCdBF', '_score': 1.0, '_source': {'course': 'data-engineering-zoomcamp'}}]}}\n"
     ]
    }
   ],
   "source": [
    "sample_query = {\n",
    "    'size': 1,\n",
    "    '_source': ['course'],\n",
    "    'query': {\n",
    "        'match_all': {}\n",
    "    }\n",
    "}\n",
    "sample_response = es_client.search(index=index_name, body=sample_query)\n",
    "print(sample_response)"
   ]
  },
  {
   "cell_type": "code",
   "execution_count": 50,
   "metadata": {},
   "outputs": [
    {
     "name": "stdout",
     "output_type": "stream",
     "text": [
      "ObjectApiResponse({'course-questions': {'mappings': {'properties': {'course': {'type': 'keyword'}, 'question': {'type': 'text'}, 'section': {'type': 'text'}, 'text': {'type': 'text'}}}}})\n"
     ]
    }
   ],
   "source": [
    "mapping = es_client.indices.get_mapping(index=index_name)\n",
    "from pprint import pprint\n",
    "pprint(mapping)"
   ]
  },
  {
   "cell_type": "code",
   "execution_count": 65,
   "metadata": {},
   "outputs": [],
   "source": [
    "# query we send to elastic search\n",
    "\n",
    "def elastic_search(query):\n",
    "    search_query = {\n",
    "        'size': 5,\n",
    "        'query': {\n",
    "            'bool': {\n",
    "                'must': {\n",
    "                    'multi_match': {\n",
    "                        'query': q,\n",
    "                        'fields': ['question^3','text', 'section'],\n",
    "                        'type': 'best_fields'\n",
    "                    }\n",
    "                },\n",
    "                'filter': {\n",
    "                    'term': {\n",
    "                        'course': \"data-engineering-zoomcamp\"\n",
    "                    }\n",
    "                }\n",
    "            }\n",
    "        }\n",
    "    }\n",
    "    \n",
    "    response = es_client.search(index=index_name, body=search_query)\n",
    "    \n",
    "    result_docs = []\n",
    "\n",
    "    for hit in response['hits']['hits']:\n",
    "        result_docs.append(hit['_source'])\n",
    "        \n",
    "    return result_docs"
   ]
  },
  {
   "cell_type": "code",
   "execution_count": 56,
   "metadata": {},
   "outputs": [
    {
     "data": {
      "text/plain": [
       "{'_index': 'course-questions',\n",
       " '_id': '3aqwhJAB9W3OmpxwCdBq',\n",
       " '_score': 66.088936,\n",
       " '_source': {'text': \"Yes, even if you don't register, you're still eligible to submit the homeworks.\\nBe aware, however, that there will be deadlines for turning in the final projects. So don't leave everything for the last minute.\",\n",
       "  'section': 'General course-related questions',\n",
       "  'question': 'Course - Can I still join the course after the start date?',\n",
       "  'course': 'data-engineering-zoomcamp'}}"
      ]
     },
     "execution_count": 56,
     "metadata": {},
     "output_type": "execute_result"
    }
   ],
   "source": [
    "response = es_client.search(index=index_name, body=search_query)\n",
    "\n",
    "response['hits']['hits']"
   ]
  },
  {
   "cell_type": "code",
   "execution_count": 63,
   "metadata": {},
   "outputs": [
    {
     "data": {
      "text/plain": [
       "[{'text': \"Yes, even if you don't register, you're still eligible to submit the homeworks.\\nBe aware, however, that there will be deadlines for turning in the final projects. So don't leave everything for the last minute.\",\n",
       "  'section': 'General course-related questions',\n",
       "  'question': 'Course - Can I still join the course after the start date?',\n",
       "  'course': 'data-engineering-zoomcamp'},\n",
       " {'text': 'You can start by installing and setting up all the dependencies and requirements:\\nGoogle cloud account\\nGoogle Cloud SDK\\nPython 3 (installed with Anaconda)\\nTerraform\\nGit\\nLook over the prerequisites and syllabus to see if you are comfortable with these subjects.',\n",
       "  'section': 'General course-related questions',\n",
       "  'question': 'Course - What can I do before the course starts?',\n",
       "  'course': 'data-engineering-zoomcamp'},\n",
       " {'text': 'Yes, we will keep all the materials after the course finishes, so you can follow the course at your own pace after it finishes.\\nYou can also continue looking at the homeworks and continue preparing for the next cohort. I guess you can also start working on your final capstone project.',\n",
       "  'section': 'General course-related questions',\n",
       "  'question': 'Course - Can I follow the course after it finishes?',\n",
       "  'course': 'data-engineering-zoomcamp'},\n",
       " {'text': 'Yes, the slack channel remains open and you can ask questions there. But always sDocker containers exit code w search the channel first and second, check the FAQ (this document), most likely all your questions are already answered here.\\nYou can also tag the bot @ZoomcampQABot to help you conduct the search, but don’t rely on its answers 100%, it is pretty good though.',\n",
       "  'section': 'General course-related questions',\n",
       "  'question': 'Course - Can I get support if I take the course in the self-paced mode?',\n",
       "  'course': 'data-engineering-zoomcamp'},\n",
       " {'text': \"You don't need it. You're accepted. You can also just start learning and submitting homework without registering. It is not checked against any registered list. Registration is just to gauge interest before the start date.\",\n",
       "  'section': 'General course-related questions',\n",
       "  'question': 'Course - I have registered for the Data Engineering Bootcamp. When can I expect to receive the confirmation email?',\n",
       "  'course': 'data-engineering-zoomcamp'}]"
      ]
     },
     "execution_count": 63,
     "metadata": {},
     "output_type": "execute_result"
    }
   ],
   "source": [
    "result_docs = []\n",
    "\n",
    "for hit in response['hits']['hits']:\n",
    "    result_docs.append(hit['_source'])\n",
    "    \n",
    "result_docs"
   ]
  },
  {
   "cell_type": "code",
   "execution_count": 66,
   "metadata": {},
   "outputs": [
    {
     "data": {
      "text/plain": [
       "[{'text': \"Yes, even if you don't register, you're still eligible to submit the homeworks.\\nBe aware, however, that there will be deadlines for turning in the final projects. So don't leave everything for the last minute.\",\n",
       "  'section': 'General course-related questions',\n",
       "  'question': 'Course - Can I still join the course after the start date?',\n",
       "  'course': 'data-engineering-zoomcamp'},\n",
       " {'text': 'You can start by installing and setting up all the dependencies and requirements:\\nGoogle cloud account\\nGoogle Cloud SDK\\nPython 3 (installed with Anaconda)\\nTerraform\\nGit\\nLook over the prerequisites and syllabus to see if you are comfortable with these subjects.',\n",
       "  'section': 'General course-related questions',\n",
       "  'question': 'Course - What can I do before the course starts?',\n",
       "  'course': 'data-engineering-zoomcamp'},\n",
       " {'text': 'Yes, we will keep all the materials after the course finishes, so you can follow the course at your own pace after it finishes.\\nYou can also continue looking at the homeworks and continue preparing for the next cohort. I guess you can also start working on your final capstone project.',\n",
       "  'section': 'General course-related questions',\n",
       "  'question': 'Course - Can I follow the course after it finishes?',\n",
       "  'course': 'data-engineering-zoomcamp'},\n",
       " {'text': 'Yes, the slack channel remains open and you can ask questions there. But always sDocker containers exit code w search the channel first and second, check the FAQ (this document), most likely all your questions are already answered here.\\nYou can also tag the bot @ZoomcampQABot to help you conduct the search, but don’t rely on its answers 100%, it is pretty good though.',\n",
       "  'section': 'General course-related questions',\n",
       "  'question': 'Course - Can I get support if I take the course in the self-paced mode?',\n",
       "  'course': 'data-engineering-zoomcamp'},\n",
       " {'text': \"You don't need it. You're accepted. You can also just start learning and submitting homework without registering. It is not checked against any registered list. Registration is just to gauge interest before the start date.\",\n",
       "  'section': 'General course-related questions',\n",
       "  'question': 'Course - I have registered for the Data Engineering Bootcamp. When can I expect to receive the confirmation email?',\n",
       "  'course': 'data-engineering-zoomcamp'}]"
      ]
     },
     "execution_count": 66,
     "metadata": {},
     "output_type": "execute_result"
    }
   ],
   "source": [
    "elastic_search(q)"
   ]
  },
  {
   "cell_type": "code",
   "execution_count": 85,
   "metadata": {},
   "outputs": [],
   "source": [
    "#adjusting rag fucntion again\n",
    "\n",
    "query = 'What is Data Engineering Zoomcamp? Can it help someone become a data engineer? Write in short'\n",
    "\n",
    "def rag(query):\n",
    "    search_results = elastic_search(query)\n",
    "    prompt = build_prompt(query, search_results)\n",
    "    answer = llm(prompt)\n",
    "    return answer"
   ]
  },
  {
   "cell_type": "code",
   "execution_count": 86,
   "metadata": {},
   "outputs": [
    {
     "data": {
      "text/plain": [
       "\"Data Engineering Zoomcamp is a course designed to help individuals become data engineers. Here's a short overview:\\n\\n1. It's a comprehensive program covering essential data engineering topics.\\n\\n2. The course is accessible even after the start date, allowing flexible participation.\\n\\n3. It provides hands-on experience with tools like Google Cloud, Python, Terraform, and Git.\\n\\n4. Materials remain available after the course ends, enabling self-paced learning.\\n\\n5. Support is available through a Slack channel, where participants can ask questions and seek help.\\n\\n6. The course includes homework assignments and a final capstone project, providing practical experience.\\n\\n7. It's designed to prepare participants for real-world data engineering roles.\\n\\nIn summary, Data Engineering Zoomcamp can indeed help someone become a data engineer by providing structured learning, practical experience, and community support.\""
      ]
     },
     "execution_count": 86,
     "metadata": {},
     "output_type": "execute_result"
    }
   ],
   "source": [
    "rag(query=query)"
   ]
  },
  {
   "cell_type": "code",
   "execution_count": 87,
   "metadata": {},
   "outputs": [
    {
     "data": {
      "text/plain": [
       "\"I apologize, but I don't have any specific information about the current week of the Data Engineering Zoomcamp or its start date in the provided context. The context does not mention any details about the current status or timeline of the course. It only contains general information about joining the course, prerequisites, and following the course after it finishes. Without more specific information, I cannot accurately answer your question about the current week or start date of the course.\""
      ]
     },
     "execution_count": 87,
     "metadata": {},
     "output_type": "execute_result"
    }
   ],
   "source": [
    "rag(query='What week is currenlty going on in Data engineering Zoomcamp? What did the course started?')"
   ]
  },
  {
   "cell_type": "code",
   "execution_count": 1,
   "metadata": {},
   "outputs": [
    {
     "name": "stdout",
     "output_type": "stream",
     "text": [
      "\u001b[2K\u001b[2mResolved \u001b[1m28 packages\u001b[0m in 744ms\u001b[0m                                                \u001b[0m\n",
      "\u001b[2K\u001b[37m⠙\u001b[0m \u001b[2mPreparing packages...\u001b[0m (0/12)                                                  \n",
      "\u001b[2K\u001b[1A\u001b[37m⠙\u001b[0m \u001b[2mPreparing packages...\u001b[0m (0/12)---\u001b[0m\u001b[0m     0 B/60.98 MB                      \u001b[1A\n",
      "\u001b[2mnumpy     \u001b[0m \u001b[32m\u001b[2m------------------------------\u001b[0m\u001b[0m     0 B/13.69 MB\n",
      "\u001b[2K\u001b[2A\u001b[37m⠙\u001b[0m \u001b[2mPreparing packages...\u001b[0m (0/12)---\u001b[0m\u001b[0m     0 B/60.98 MB                      \u001b[2A\n",
      "\u001b[2msympy     \u001b[0m \u001b[32m\u001b[2m------------------------------\u001b[0m\u001b[0m     0 B/6.19 MB\n",
      "\u001b[2mnumpy     \u001b[0m \u001b[32m\u001b[2m------------------------------\u001b[0m\u001b[0m     0 B/13.69 MB\n",
      "\u001b[2K\u001b[3A\u001b[37m⠙\u001b[0m \u001b[2mPreparing packages...\u001b[0m (0/12)---\u001b[0m\u001b[0m     0 B/60.98 MB                      \u001b[3A\n",
      "\u001b[2msympy     \u001b[0m \u001b[32m\u001b[2m------------------------------\u001b[0m\u001b[0m     0 B/6.19 MB\n",
      "\u001b[2mtransformers\u001b[0m \u001b[32m\u001b[2m------------------------------\u001b[0m\u001b[0m     0 B/9.34 MB\n",
      "\u001b[2mnumpy     \u001b[0m \u001b[32m\u001b[2m------------------------------\u001b[0m\u001b[0m     0 B/13.69 MB\n",
      "\u001b[2K\u001b[4A\u001b[37m⠙\u001b[0m \u001b[2mPreparing packages...\u001b[0m (0/12)---\u001b[0m\u001b[0m     0 B/60.98 MB                      \u001b[4A\n",
      "\u001b[2msympy     \u001b[0m \u001b[32m\u001b[2m------------------------------\u001b[0m\u001b[0m     0 B/6.19 MB\n",
      "\u001b[2mtransformers\u001b[0m \u001b[32m\u001b[2m------------------------------\u001b[0m\u001b[0m     0 B/9.34 MB\n",
      "\u001b[2mnumpy     \u001b[0m \u001b[32m\u001b[2m------------------------------\u001b[0m\u001b[0m     0 B/13.69 MB\n",
      "\u001b[2mtorch     \u001b[0m \u001b[32m\u001b[2m------------------------------\u001b[0m\u001b[0m     0 B/60.98 MB\n",
      "\u001b[2K\u001b[5A\u001b[37m⠙\u001b[0m \u001b[2mPreparing packages...\u001b[0m (0/12)-----\u001b[0m\u001b[0m     0 B/104.96 MB                   \u001b[5A\n",
      "\u001b[2msympy     \u001b[0m \u001b[32m\u001b[2m------------------------------\u001b[0m\u001b[0m     0 B/6.19 MB\n",
      "\u001b[2mtransformers\u001b[0m \u001b[32m\u001b[2m------------------------------\u001b[0m\u001b[0m     0 B/9.34 MB\n",
      "\u001b[2mnumpy     \u001b[0m \u001b[32m\u001b[2m------------------------------\u001b[0m\u001b[0m     0 B/13.69 MB\n",
      "\u001b[2mtorch     \u001b[0m \u001b[32m\u001b[2m------------------------------\u001b[0m\u001b[0m     0 B/60.98 MB\n",
      "\u001b[2K\u001b[5A\u001b[37m⠙\u001b[0m \u001b[2mPreparing packages...\u001b[0m (0/12)-----\u001b[0m\u001b[0m 1.38 kB/104.96 MB                   \u001b[5A\n",
      "\u001b[2msympy     \u001b[0m \u001b[32m\u001b[2m------------------------------\u001b[0m\u001b[0m     0 B/6.19 MB\n",
      "\u001b[2mtransformers\u001b[0m \u001b[32m\u001b[2m------------------------------\u001b[0m\u001b[0m     0 B/9.34 MB\n",
      "\u001b[2mnumpy     \u001b[0m \u001b[32m\u001b[2m------------------------------\u001b[0m\u001b[0m     0 B/13.69 MB\n",
      "\u001b[2mtorch     \u001b[0m \u001b[32m\u001b[2m------------------------------\u001b[0m\u001b[0m     0 B/60.98 MB\n",
      "\u001b[2K\u001b[5A\u001b[37m⠙\u001b[0m \u001b[2mPreparing packages...\u001b[0m (0/12)-----\u001b[0m\u001b[0m 2.76 kB/104.96 MB                   \u001b[5A\n",
      "\u001b[2msympy     \u001b[0m \u001b[32m\u001b[2m------------------------------\u001b[0m\u001b[0m     0 B/6.19 MB\n",
      "\u001b[2mtransformers\u001b[0m \u001b[32m\u001b[2m------------------------------\u001b[0m\u001b[0m     0 B/9.34 MB\n",
      "\u001b[2mnumpy     \u001b[0m \u001b[32m\u001b[2m------------------------------\u001b[0m\u001b[0m     0 B/13.69 MB\n",
      "\u001b[2mtorch     \u001b[0m \u001b[32m\u001b[2m------------------------------\u001b[0m\u001b[0m     0 B/60.98 MB\n",
      "\u001b[2K\u001b[5A\u001b[37m⠙\u001b[0m \u001b[2mPreparing packages...\u001b[0m (0/12)-----\u001b[0m\u001b[0m 4.13 kB/104.96 MB                   \u001b[5A\n",
      "\u001b[2msympy     \u001b[0m \u001b[32m\u001b[2m------------------------------\u001b[0m\u001b[0m     0 B/6.19 MB\n",
      "\u001b[2mtransformers\u001b[0m \u001b[32m\u001b[2m------------------------------\u001b[0m\u001b[0m     0 B/9.34 MB\n",
      "\u001b[2mnumpy     \u001b[0m \u001b[32m\u001b[2m------------------------------\u001b[0m\u001b[0m     0 B/13.69 MB\n",
      "\u001b[2mtorch     \u001b[0m \u001b[32m\u001b[2m------------------------------\u001b[0m\u001b[0m     0 B/60.98 MB\n",
      "\u001b[2K\u001b[5A\u001b[37m⠙\u001b[0m \u001b[2mPreparing packages...\u001b[0m (0/12)-----\u001b[0m\u001b[0m 5.51 kB/104.96 MB                   \u001b[5A\n",
      "\u001b[2msympy     \u001b[0m \u001b[32m\u001b[2m------------------------------\u001b[0m\u001b[0m     0 B/6.19 MB\n",
      "\u001b[2mtransformers\u001b[0m \u001b[32m\u001b[2m------------------------------\u001b[0m\u001b[0m     0 B/9.34 MB\n",
      "\u001b[2mnumpy     \u001b[0m \u001b[32m\u001b[2m------------------------------\u001b[0m\u001b[0m     0 B/13.69 MB\n",
      "\u001b[2mtorch     \u001b[0m \u001b[32m\u001b[2m------------------------------\u001b[0m\u001b[0m     0 B/60.98 MB\n",
      "\u001b[2K\u001b[5A\u001b[37m⠙\u001b[0m \u001b[2mPreparing packages...\u001b[0m (0/12)-----\u001b[0m\u001b[0m 8.27 kB/104.96 MB                   \u001b[5A\n",
      "\u001b[2msympy     \u001b[0m \u001b[32m\u001b[2m------------------------------\u001b[0m\u001b[0m     0 B/6.19 MB\n",
      "\u001b[2mtransformers\u001b[0m \u001b[32m\u001b[2m------------------------------\u001b[0m\u001b[0m     0 B/9.34 MB\n",
      "\u001b[2mnumpy     \u001b[0m \u001b[32m\u001b[2m------------------------------\u001b[0m\u001b[0m     0 B/13.69 MB\n",
      "\u001b[2mtorch     \u001b[0m \u001b[32m-\u001b[2m-----------------------------\u001b[0m\u001b[0m 8.19 kB/60.98 MB\n",
      "\u001b[2K\u001b[5A\u001b[37m⠙\u001b[0m \u001b[2mPreparing packages...\u001b[0m (0/12)-----\u001b[0m\u001b[0m 8.27 kB/104.96 MB                   \u001b[5A\n",
      "\u001b[2msympy     \u001b[0m \u001b[32m\u001b[2m------------------------------\u001b[0m\u001b[0m     0 B/6.19 MB\n",
      "\u001b[2mtransformers\u001b[0m \u001b[32m\u001b[2m------------------------------\u001b[0m\u001b[0m     0 B/9.34 MB\n",
      "\u001b[2mnumpy     \u001b[0m \u001b[32m\u001b[2m------------------------------\u001b[0m\u001b[0m     0 B/13.69 MB\n",
      "\u001b[2mtorch     \u001b[0m \u001b[32m-\u001b[2m-----------------------------\u001b[0m\u001b[0m 16.38 kB/60.98 MB\n",
      "\u001b[2K\u001b[5A\u001b[37m⠙\u001b[0m \u001b[2mPreparing packages...\u001b[0m (0/12)-----\u001b[0m\u001b[0m 8.27 kB/104.96 MB                   \u001b[5A\n",
      "\u001b[2msympy     \u001b[0m \u001b[32m\u001b[2m------------------------------\u001b[0m\u001b[0m     0 B/6.19 MB\n",
      "\u001b[2mtransformers\u001b[0m \u001b[32m\u001b[2m------------------------------\u001b[0m\u001b[0m     0 B/9.34 MB\n",
      "\u001b[2mnumpy     \u001b[0m \u001b[32m-\u001b[2m-----------------------------\u001b[0m\u001b[0m 8.19 kB/13.69 MB\n",
      "\u001b[2mtorch     \u001b[0m \u001b[32m-\u001b[2m-----------------------------\u001b[0m\u001b[0m 16.38 kB/60.98 MB\n",
      "\u001b[2K\u001b[5A\u001b[37m⠙\u001b[0m \u001b[2mPreparing packages...\u001b[0m (0/12)-----\u001b[0m\u001b[0m 8.27 kB/104.96 MB                   \u001b[5A\n",
      "\u001b[2msympy     \u001b[0m \u001b[32m\u001b[2m------------------------------\u001b[0m\u001b[0m     0 B/6.19 MB\n",
      "\u001b[2mtransformers\u001b[0m \u001b[32m\u001b[2m------------------------------\u001b[0m\u001b[0m     0 B/9.34 MB\n",
      "\u001b[2mnumpy     \u001b[0m \u001b[32m-\u001b[2m-----------------------------\u001b[0m\u001b[0m 8.19 kB/13.69 MB\n",
      "\u001b[2mtorch     \u001b[0m \u001b[32m-\u001b[2m-----------------------------\u001b[0m\u001b[0m 16.38 kB/60.98 MB\n",
      "\u001b[2K\u001b[5A\u001b[37m⠙\u001b[0m \u001b[2mPreparing packages...\u001b[0m (0/12)-----\u001b[0m\u001b[0m 9.65 kB/104.96 MB                   \u001b[5A\n",
      "\u001b[2msympy     \u001b[0m \u001b[32m\u001b[2m------------------------------\u001b[0m\u001b[0m     0 B/6.19 MB\n",
      "\u001b[2mtransformers\u001b[0m \u001b[32m\u001b[2m------------------------------\u001b[0m\u001b[0m     0 B/9.34 MB\n",
      "\u001b[2mnumpy     \u001b[0m \u001b[32m-\u001b[2m-----------------------------\u001b[0m\u001b[0m 8.19 kB/13.69 MB\n",
      "\u001b[2mtorch     \u001b[0m \u001b[32m-\u001b[2m-----------------------------\u001b[0m\u001b[0m 16.38 kB/60.98 MB\n",
      "\u001b[2K\u001b[5A\u001b[37m⠙\u001b[0m \u001b[2mPreparing packages...\u001b[0m (0/12)-----\u001b[0m\u001b[0m 11.02 kB/104.96 MB                  \u001b[5A\n",
      "\u001b[2msympy     \u001b[0m \u001b[32m\u001b[2m------------------------------\u001b[0m\u001b[0m     0 B/6.19 MB\n",
      "\u001b[2mtransformers\u001b[0m \u001b[32m-\u001b[2m-----------------------------\u001b[0m\u001b[0m 8.19 kB/9.34 MB\n",
      "\u001b[2mnumpy     \u001b[0m \u001b[32m-\u001b[2m-----------------------------\u001b[0m\u001b[0m 8.19 kB/13.69 MB\n",
      "\u001b[2mtorch     \u001b[0m \u001b[32m-\u001b[2m-----------------------------\u001b[0m\u001b[0m 16.38 kB/60.98 MB\n",
      "\u001b[2K\u001b[5A\u001b[37m⠙\u001b[0m \u001b[2mPreparing packages...\u001b[0m (0/12)-----\u001b[0m\u001b[0m 11.02 kB/104.96 MB                  \u001b[5A\n",
      "\u001b[2msympy     \u001b[0m \u001b[32m\u001b[2m------------------------------\u001b[0m\u001b[0m     0 B/6.19 MB\n",
      "\u001b[2mtransformers\u001b[0m \u001b[32m-\u001b[2m-----------------------------\u001b[0m\u001b[0m 8.19 kB/9.34 MB\n",
      "\u001b[2mnumpy     \u001b[0m \u001b[32m-\u001b[2m-----------------------------\u001b[0m\u001b[0m 16.38 kB/13.69 MB\n",
      "\u001b[2mtorch     \u001b[0m \u001b[32m-\u001b[2m-----------------------------\u001b[0m\u001b[0m 16.38 kB/60.98 MB\n",
      "\u001b[2K\u001b[5A\u001b[37m⠙\u001b[0m \u001b[2mPreparing packages...\u001b[0m (0/12)-----\u001b[0m\u001b[0m 11.02 kB/104.96 MB                  \u001b[5A\n",
      "\u001b[2msympy     \u001b[0m \u001b[32m-\u001b[2m-----------------------------\u001b[0m\u001b[0m 16.38 kB/6.19 MB\n",
      "\u001b[2mtransformers\u001b[0m \u001b[32m-\u001b[2m-----------------------------\u001b[0m\u001b[0m 31.61 kB/9.34 MB\n",
      "\u001b[2mnumpy     \u001b[0m \u001b[32m-\u001b[2m-----------------------------\u001b[0m\u001b[0m 32.77 kB/13.69 MB\n",
      "\u001b[2mtorch     \u001b[0m \u001b[32m-\u001b[2m-----------------------------\u001b[0m\u001b[0m 32.77 kB/60.98 MB\n",
      "\u001b[2K\u001b[5A\u001b[37m⠙\u001b[0m \u001b[2mPreparing packages...\u001b[0m (0/12)-----\u001b[0m\u001b[0m 20.67 kB/104.96 MB                  \u001b[5A\n",
      "\u001b[2mcertifi   \u001b[0m \u001b[32m\u001b[2m------------------------------\u001b[0m\u001b[0m     0 B/162.96 kB\n",
      "\u001b[2mregex     \u001b[0m \u001b[32m\u001b[2m------------------------------\u001b[0m\u001b[0m     0 B/278.54 kB\n",
      "\u001b[2maccelerate\u001b[0m \u001b[32m\u001b[2m------------------------------\u001b[0m\u001b[0m     0 B/314.14 kB\n",
      "\u001b[2msentencepiece\u001b[0m \u001b[32m-\u001b[2m-----------------------------\u001b[0m\u001b[0m 12.40 kB/1.18 MB\n",
      "\u001b[2mnetworkx  \u001b[0m \u001b[32m\u001b[2m------------------------------\u001b[0m\u001b[0m     0 B/1.70 MB\n",
      "\u001b[2msympy     \u001b[0m \u001b[32m-\u001b[2m-----------------------------\u001b[0m\u001b[0m 81.92 kB/6.19 MB\n",
      "\u001b[2mtransformers\u001b[0m \u001b[32m-\u001b[2m-----------------------------\u001b[0m\u001b[0m 113.53 kB/9.34 MB\n",
      "\u001b[2mnumpy     \u001b[0m \u001b[32m-\u001b[2m-----------------------------\u001b[0m\u001b[0m 114.69 kB/13.69 MB\n",
      "\u001b[2mtorch     \u001b[0m \u001b[32m-\u001b[2m-----------------------------\u001b[0m\u001b[0m 143.72 kB/60.98 MB\n",
      "\u001b[2K\u001b[10A\u001b[37m⠙\u001b[0m \u001b[2mPreparing packages...\u001b[0m (0/12)----\u001b[0m\u001b[0m 62.64 kB/104.96 MB                  \u001b[10A\n",
      "\u001b[2mcertifi   \u001b[0m \u001b[32m----\u001b[2m--------------------------\u001b[0m\u001b[0m 16.38 kB/162.96 kB\n",
      "\u001b[2mregex     \u001b[0m \u001b[32m----\u001b[2m--------------------------\u001b[0m\u001b[0m 32.77 kB/278.54 kB\n",
      "\u001b[2maccelerate\u001b[0m \u001b[32m----\u001b[2m--------------------------\u001b[0m\u001b[0m 32.77 kB/314.14 kB\n",
      "\u001b[2msafetensors\u001b[0m \u001b[32m--\u001b[2m----------------------------\u001b[0m\u001b[0m 16.38 kB/411.13 kB\n",
      "\u001b[2mmpmath    \u001b[0m \u001b[32m-\u001b[2m-----------------------------\u001b[0m\u001b[0m 15.21 kB/536.20 kB\n",
      "\u001b[2msentencepiece\u001b[0m \u001b[32m--\u001b[2m----------------------------\u001b[0m\u001b[0m 46.55 kB/1.18 MB\n",
      "\u001b[2mnetworkx  \u001b[0m \u001b[32m-\u001b[2m-----------------------------\u001b[0m\u001b[0m 49.15 kB/1.70 MB\n",
      "\u001b[2msympy     \u001b[0m \u001b[32m--\u001b[2m----------------------------\u001b[0m\u001b[0m 212.99 kB/6.19 MB\n",
      "\u001b[2mtransformers\u001b[0m \u001b[32m-\u001b[2m-----------------------------\u001b[0m\u001b[0m 310.14 kB/9.34 MB\n",
      "\u001b[2mnumpy     \u001b[0m \u001b[32m-\u001b[2m-----------------------------\u001b[0m\u001b[0m 311.30 kB/13.69 MB\n",
      "\u001b[2mtorch     \u001b[0m \u001b[32m-\u001b[2m-----------------------------\u001b[0m\u001b[0m 340.33 kB/60.98 MB\n",
      "\u001b[2K\u001b[12A\u001b[37m⠙\u001b[0m \u001b[2mPreparing packages...\u001b[0m (0/12)----\u001b[0m\u001b[0m 177.33 kB/104.96 MB                 \u001b[12A\n",
      "\u001b[2mcertifi   \u001b[0m \u001b[32m----------\u001b[2m--------------------\u001b[0m\u001b[0m 49.15 kB/162.96 kB\n",
      "\u001b[2mregex     \u001b[0m \u001b[32m--------\u001b[2m----------------------\u001b[0m\u001b[0m 65.54 kB/278.54 kB\n",
      "\u001b[2maccelerate\u001b[0m \u001b[32m--------\u001b[2m----------------------\u001b[0m\u001b[0m 81.92 kB/314.14 kB\n",
      "\u001b[2msafetensors\u001b[0m \u001b[32m----\u001b[2m--------------------------\u001b[0m\u001b[0m 49.15 kB/411.13 kB\n",
      "\u001b[2mmpmath    \u001b[0m \u001b[32m---\u001b[2m---------------------------\u001b[0m\u001b[0m 47.98 kB/536.20 kB\n",
      "\u001b[2msentencepiece\u001b[0m \u001b[32m---\u001b[2m---------------------------\u001b[0m\u001b[0m 94.41 kB/1.18 MB\n",
      "\u001b[2mnetworkx  \u001b[0m \u001b[32m---\u001b[2m---------------------------\u001b[0m\u001b[0m 114.69 kB/1.70 MB\n",
      "\u001b[2msympy     \u001b[0m \u001b[32m--\u001b[2m----------------------------\u001b[0m\u001b[0m 337.73 kB/6.19 MB\n",
      "\u001b[2mtransformers\u001b[0m \u001b[32m--\u001b[2m----------------------------\u001b[0m\u001b[0m 533.06 kB/9.34 MB\n",
      "\u001b[2mnumpy     \u001b[0m \u001b[32m--\u001b[2m----------------------------\u001b[0m\u001b[0m 491.52 kB/13.69 MB\n",
      "\u001b[2mtorch     \u001b[0m \u001b[32m-\u001b[2m-----------------------------\u001b[0m\u001b[0m 553.33 kB/60.98 MB\n",
      "\u001b[2K\u001b[12A\u001b[37m⠹\u001b[0m \u001b[2mPreparing packages...\u001b[0m (0/12)----\u001b[0m\u001b[0m 292.02 kB/104.96 MB                 \u001b[12A\n",
      "\u001b[2mcertifi   \u001b[0m \u001b[32m----------------\u001b[2m--------------\u001b[0m\u001b[0m 81.92 kB/162.96 kB\n",
      "\u001b[2mregex     \u001b[0m \u001b[32m---------\u001b[2m---------------------\u001b[0m\u001b[0m 81.92 kB/278.54 kB\n",
      "\u001b[2maccelerate\u001b[0m \u001b[32m-----------\u001b[2m-------------------\u001b[0m\u001b[0m 114.69 kB/314.14 kB\n",
      "\u001b[2msafetensors\u001b[0m \u001b[32m-----\u001b[2m-------------------------\u001b[0m\u001b[0m 65.54 kB/411.13 kB\n",
      "\u001b[2mmpmath    \u001b[0m \u001b[32m----\u001b[2m--------------------------\u001b[0m\u001b[0m 64.36 kB/536.20 kB\n",
      "\u001b[2msentencepiece\u001b[0m \u001b[32m----\u001b[2m--------------------------\u001b[0m\u001b[0m 127.17 kB/1.18 MB\n",
      "\u001b[2mnetworkx  \u001b[0m \u001b[32m---\u001b[2m---------------------------\u001b[0m\u001b[0m 147.46 kB/1.70 MB\n",
      "\u001b[2msympy     \u001b[0m \u001b[32m---\u001b[2m---------------------------\u001b[0m\u001b[0m 419.65 kB/6.19 MB\n",
      "\u001b[2mtransformers\u001b[0m \u001b[32m---\u001b[2m---------------------------\u001b[0m\u001b[0m 647.74 kB/9.34 MB\n",
      "\u001b[2mnumpy     \u001b[0m \u001b[32m--\u001b[2m----------------------------\u001b[0m\u001b[0m 633.86 kB/13.69 MB\n",
      "\u001b[2mtorch     \u001b[0m \u001b[32m-\u001b[2m-----------------------------\u001b[0m\u001b[0m 684.40 kB/60.98 MB\n",
      "\u001b[2K\u001b[12A\u001b[37m⠹\u001b[0m \u001b[2mPreparing packages...\u001b[0m (0/12)----\u001b[0m\u001b[0m 357.55 kB/104.96 MB                 \u001b[12A\n",
      "\u001b[2mcertifi   \u001b[0m \u001b[32m-------------------------\u001b[2m-----\u001b[0m\u001b[0m 131.07 kB/162.96 kB\n",
      "\u001b[2mregex     \u001b[0m \u001b[32m----------------\u001b[2m--------------\u001b[0m\u001b[0m 147.46 kB/278.54 kB\n",
      "\u001b[2maccelerate\u001b[0m \u001b[32m-------------------\u001b[2m-----------\u001b[0m\u001b[0m 196.61 kB/314.14 kB\n",
      "\u001b[2msafetensors\u001b[0m \u001b[32m----------\u001b[2m--------------------\u001b[0m\u001b[0m 131.07 kB/411.13 kB\n",
      "\u001b[2mmpmath    \u001b[0m \u001b[32m--------\u001b[2m----------------------\u001b[0m\u001b[0m 129.90 kB/536.20 kB\n",
      "\u001b[2msentencepiece\u001b[0m \u001b[32m------\u001b[2m------------------------\u001b[0m\u001b[0m 225.48 kB/1.18 MB\n",
      "\u001b[2mnetworkx  \u001b[0m \u001b[32m-----\u001b[2m-------------------------\u001b[0m\u001b[0m 272.19 kB/1.70 MB\n",
      "\u001b[2msympy     \u001b[0m \u001b[32m----\u001b[2m--------------------------\u001b[0m\u001b[0m 649.02 kB/6.19 MB\n",
      "\u001b[2mtransformers\u001b[0m \u001b[32m----\u001b[2m--------------------------\u001b[0m\u001b[0m 979.14 kB/9.34 MB\n",
      "\u001b[2mnumpy     \u001b[0m \u001b[32m--\u001b[2m----------------------------\u001b[0m\u001b[0m 912.38 kB/13.69 MB\n",
      "\u001b[2mtorch     \u001b[0m \u001b[32m-\u001b[2m-----------------------------\u001b[0m\u001b[0m 1.06 MB/60.98 MB\n",
      "\u001b[2K\u001b[12A\u001b[37m⠹\u001b[0m \u001b[2mPreparing packages...\u001b[0m (0/12)----\u001b[0m\u001b[0m 537.78 kB/104.96 MB                 \u001b[12A\n",
      "\u001b[2mregex     \u001b[0m \u001b[32m------------------\u001b[2m------------\u001b[0m\u001b[0m 163.84 kB/278.54 kB\n",
      "\u001b[2maccelerate\u001b[0m \u001b[32m---------------------\u001b[2m---------\u001b[0m\u001b[0m 212.99 kB/314.14 kB\n",
      "\u001b[2msafetensors\u001b[0m \u001b[32m-----------\u001b[2m-------------------\u001b[0m\u001b[0m 147.46 kB/411.13 kB\n",
      "\u001b[2mmpmath    \u001b[0m \u001b[32m---------\u001b[2m---------------------\u001b[0m\u001b[0m 146.28 kB/536.20 kB\n",
      "\u001b[2msentencepiece\u001b[0m \u001b[32m-------\u001b[2m-----------------------\u001b[0m\u001b[0m 274.63 kB/1.18 MB\n",
      "\u001b[2mnetworkx  \u001b[0m \u001b[32m------\u001b[2m------------------------\u001b[0m\u001b[0m 304.96 kB/1.70 MB\n",
      "\u001b[2msympy     \u001b[0m \u001b[32m----\u001b[2m--------------------------\u001b[0m\u001b[0m 714.56 kB/6.19 MB\n",
      "\u001b[2mtransformers\u001b[0m \u001b[32m----\u001b[2m--------------------------\u001b[0m\u001b[0m 1.08 MB/9.34 MB\n",
      "\u001b[2mnumpy     \u001b[0m \u001b[32m---\u001b[2m---------------------------\u001b[0m\u001b[0m 1.01 MB/13.69 MB\n",
      "\u001b[2mtorch     \u001b[0m \u001b[32m-\u001b[2m-----------------------------\u001b[0m\u001b[0m 1.13 MB/60.98 MB\n",
      "\u001b[2K\u001b[11A\u001b[37m⠹\u001b[0m \u001b[2mPreparing packages...\u001b[0m (0/12)----\u001b[0m\u001b[0m 603.31 kB/104.96 MB                 \u001b[11A\n",
      "\u001b[2mregex     \u001b[0m \u001b[32m--------------------\u001b[2m----------\u001b[0m\u001b[0m 180.22 kB/278.54 kB\n",
      "\u001b[2maccelerate\u001b[0m \u001b[32m----------------------\u001b[2m--------\u001b[0m\u001b[0m 229.38 kB/314.14 kB\n",
      "\u001b[2msafetensors\u001b[0m \u001b[32m------------\u001b[2m------------------\u001b[0m\u001b[0m 163.84 kB/411.13 kB\n",
      "\u001b[2mmpmath    \u001b[0m \u001b[32m---------\u001b[2m---------------------\u001b[0m\u001b[0m 146.28 kB/536.20 kB\n",
      "\u001b[2msentencepiece\u001b[0m \u001b[32m--------\u001b[2m----------------------\u001b[0m\u001b[0m 291.01 kB/1.18 MB\n",
      "\u001b[2mnetworkx  \u001b[0m \u001b[32m------\u001b[2m------------------------\u001b[0m\u001b[0m 337.73 kB/1.70 MB\n",
      "\u001b[2msympy     \u001b[0m \u001b[32m----\u001b[2m--------------------------\u001b[0m\u001b[0m 780.10 kB/6.19 MB\n",
      "\u001b[2mtransformers\u001b[0m \u001b[32m----\u001b[2m--------------------------\u001b[0m\u001b[0m 1.21 MB/9.34 MB\n",
      "\u001b[2mnumpy     \u001b[0m \u001b[32m---\u001b[2m---------------------------\u001b[0m\u001b[0m 1.08 MB/13.69 MB\n",
      "\u001b[2mtorch     \u001b[0m \u001b[32m-\u001b[2m-----------------------------\u001b[0m\u001b[0m 1.29 MB/60.98 MB\n",
      "\u001b[2K\u001b[11A\u001b[37m⠹\u001b[0m \u001b[2mPreparing packages...\u001b[0m (0/12)----\u001b[0m\u001b[0m 636.08 kB/104.96 MB                 \u001b[11A\n",
      "\u001b[2mregex     \u001b[0m \u001b[32m-------------------------\u001b[2m-----\u001b[0m\u001b[0m 229.38 kB/278.54 kB\n",
      "\u001b[2msafetensors\u001b[0m \u001b[32m----------------\u001b[2m--------------\u001b[0m\u001b[0m 212.99 kB/411.13 kB\n",
      "\u001b[2mmpmath    \u001b[0m \u001b[32m-----------\u001b[2m-------------------\u001b[0m\u001b[0m 195.43 kB/536.20 kB\n",
      "\u001b[2msentencepiece\u001b[0m \u001b[32m---------\u001b[2m---------------------\u001b[0m\u001b[0m 323.78 kB/1.18 MB\n",
      "\u001b[2mnetworkx  \u001b[0m \u001b[32m--------\u001b[2m----------------------\u001b[0m\u001b[0m 419.65 kB/1.70 MB\n",
      "\u001b[2msympy     \u001b[0m \u001b[32m-----\u001b[2m-------------------------\u001b[0m\u001b[0m 938.82 kB/6.19 MB\n",
      "\u001b[2mtransformers\u001b[0m \u001b[32m-----\u001b[2m-------------------------\u001b[0m\u001b[0m 1.43 MB/9.34 MB\n",
      "\u001b[2mnumpy     \u001b[0m \u001b[32m---\u001b[2m---------------------------\u001b[0m\u001b[0m 1.32 MB/13.69 MB\n",
      "\u001b[2mtorch     \u001b[0m \u001b[32m-\u001b[2m-----------------------------\u001b[0m\u001b[0m 1.49 MB/60.98 MB\n",
      "\u001b[2K\u001b[10A\u001b[37m⠹\u001b[0m \u001b[2mPreparing packages...\u001b[0m (0/12)----\u001b[0m\u001b[0m 783.54 kB/104.96 MB                 \u001b[10A\n",
      "\u001b[2mregex     \u001b[0m \u001b[32m-------------------------\u001b[2m-----\u001b[0m\u001b[0m 229.38 kB/278.54 kB\n",
      "\u001b[2msafetensors\u001b[0m \u001b[32m----------------\u001b[2m--------------\u001b[0m\u001b[0m 212.99 kB/411.13 kB\n",
      "\u001b[2mmpmath    \u001b[0m \u001b[32m-----------\u001b[2m-------------------\u001b[0m\u001b[0m 195.43 kB/536.20 kB\n",
      "\u001b[2msentencepiece\u001b[0m \u001b[32m----------\u001b[2m--------------------\u001b[0m\u001b[0m 356.55 kB/1.18 MB\n",
      "\u001b[2mnetworkx  \u001b[0m \u001b[32m--------\u001b[2m----------------------\u001b[0m\u001b[0m 436.03 kB/1.70 MB\n",
      "\u001b[2msympy     \u001b[0m \u001b[32m-----\u001b[2m-------------------------\u001b[0m\u001b[0m 971.58 kB/6.19 MB\n",
      "\u001b[2mtransformers\u001b[0m \u001b[32m-----\u001b[2m-------------------------\u001b[0m\u001b[0m 1.51 MB/9.34 MB\n",
      "\u001b[2mnumpy     \u001b[0m \u001b[32m---\u001b[2m---------------------------\u001b[0m\u001b[0m 1.32 MB/13.69 MB\n",
      "\u001b[2mtorch     \u001b[0m \u001b[32m-\u001b[2m-----------------------------\u001b[0m\u001b[0m 1.57 MB/60.98 MB\n",
      "\u001b[2K\u001b[10A\u001b[37m⠸\u001b[0m \u001b[2mPreparing packages...\u001b[0m (2/12)----\u001b[0m\u001b[0m 783.54 kB/104.96 MB                 \u001b[10A\n",
      "\u001b[2mregex     \u001b[0m \u001b[32m-----------------------------\u001b[2m-\u001b[0m\u001b[0m 262.14 kB/278.54 kB\n",
      "\u001b[2msafetensors\u001b[0m \u001b[32m------------------\u001b[2m------------\u001b[0m\u001b[0m 245.76 kB/411.13 kB\n",
      "\u001b[2mmpmath    \u001b[0m \u001b[32m------------\u001b[2m------------------\u001b[0m\u001b[0m 211.82 kB/536.20 kB\n",
      "\u001b[2msentencepiece\u001b[0m \u001b[32m-----------\u001b[2m-------------------\u001b[0m\u001b[0m 405.70 kB/1.18 MB\n",
      "\u001b[2mnetworkx  \u001b[0m \u001b[32m----------\u001b[2m--------------------\u001b[0m\u001b[0m 517.95 kB/1.70 MB\n",
      "\u001b[2msympy     \u001b[0m \u001b[32m------\u001b[2m------------------------\u001b[0m\u001b[0m 1.12 MB/6.19 MB\n",
      "\u001b[2mtransformers\u001b[0m \u001b[32m------\u001b[2m------------------------\u001b[0m\u001b[0m 1.75 MB/9.34 MB\n",
      "\u001b[2mnumpy     \u001b[0m \u001b[32m----\u001b[2m--------------------------\u001b[0m\u001b[0m 1.40 MB/13.69 MB\n",
      "\u001b[2mtorch     \u001b[0m \u001b[32m-\u001b[2m-----------------------------\u001b[0m\u001b[0m 1.83 MB/60.98 MB\n",
      "\u001b[2K\u001b[10A\u001b[37m⠸\u001b[0m \u001b[2mPreparing packages...\u001b[0m (2/12)----\u001b[0m\u001b[0m 898.22 kB/104.96 MB                 \u001b[10A\n",
      "\u001b[2msafetensors\u001b[0m \u001b[32m------------------\u001b[2m------------\u001b[0m\u001b[0m 245.76 kB/411.13 kB\n",
      "\u001b[2mmpmath    \u001b[0m \u001b[32m------------\u001b[2m------------------\u001b[0m\u001b[0m 211.82 kB/536.20 kB\n",
      "\u001b[2msentencepiece\u001b[0m \u001b[32m-----------\u001b[2m-------------------\u001b[0m\u001b[0m 405.70 kB/1.18 MB\n",
      "\u001b[2mnetworkx  \u001b[0m \u001b[32m----------\u001b[2m--------------------\u001b[0m\u001b[0m 517.95 kB/1.70 MB\n",
      "\u001b[2msympy     \u001b[0m \u001b[32m------\u001b[2m------------------------\u001b[0m\u001b[0m 1.12 MB/6.19 MB\n",
      "\u001b[2mtransformers\u001b[0m \u001b[32m------\u001b[2m------------------------\u001b[0m\u001b[0m 1.77 MB/9.34 MB\n",
      "\u001b[2mnumpy     \u001b[0m \u001b[32m----\u001b[2m--------------------------\u001b[0m\u001b[0m 1.40 MB/13.69 MB\n",
      "\u001b[2mtorch     \u001b[0m \u001b[32m-\u001b[2m-----------------------------\u001b[0m\u001b[0m 1.85 MB/60.98 MB\n",
      "\u001b[2K\u001b[9A\u001b[37m⠸\u001b[0m \u001b[2mPreparing packages...\u001b[0m (2/12)-----\u001b[0m\u001b[0m 898.22 kB/104.96 MB                 \u001b[9A\n",
      "\u001b[2msafetensors\u001b[0m \u001b[32m--------------------\u001b[2m----------\u001b[0m\u001b[0m 272.19 kB/411.13 kB\n",
      "\u001b[2mmpmath    \u001b[0m \u001b[32m--------------\u001b[2m----------------\u001b[0m\u001b[0m 244.58 kB/536.20 kB\n",
      "\u001b[2msentencepiece\u001b[0m \u001b[32m------------\u001b[2m------------------\u001b[0m\u001b[0m 471.24 kB/1.18 MB\n",
      "\u001b[2mnetworkx  \u001b[0m \u001b[32m-----------\u001b[2m-------------------\u001b[0m\u001b[0m 616.26 kB/1.70 MB\n",
      "\u001b[2msympy     \u001b[0m \u001b[32m------\u001b[2m------------------------\u001b[0m\u001b[0m 1.22 MB/6.19 MB\n",
      "\u001b[2mtransformers\u001b[0m \u001b[32m-------\u001b[2m-----------------------\u001b[0m\u001b[0m 1.92 MB/9.34 MB\n",
      "\u001b[2mnumpy     \u001b[0m \u001b[32m----\u001b[2m--------------------------\u001b[0m\u001b[0m 1.62 MB/13.69 MB\n",
      "\u001b[2mtorch     \u001b[0m \u001b[32m--\u001b[2m----------------------------\u001b[0m\u001b[0m 2.05 MB/60.98 MB\n",
      "\u001b[2K\u001b[9A\u001b[37m⠸\u001b[0m \u001b[2mPreparing packages...\u001b[0m (2/12)-----\u001b[0m\u001b[0m 980.14 kB/104.96 MB                 \u001b[9A\n",
      "\u001b[2msafetensors\u001b[0m \u001b[32m----------------------\u001b[2m--------\u001b[0m\u001b[0m 288.58 kB/411.13 kB\n",
      "\u001b[2mmpmath    \u001b[0m \u001b[32m---------------\u001b[2m---------------\u001b[0m\u001b[0m 260.97 kB/536.20 kB\n",
      "\u001b[2msentencepiece\u001b[0m \u001b[32m--------------\u001b[2m----------------\u001b[0m\u001b[0m 536.77 kB/1.18 MB\n",
      "\u001b[2mnetworkx  \u001b[0m \u001b[32m------------\u001b[2m------------------\u001b[0m\u001b[0m 649.02 kB/1.70 MB\n",
      "\u001b[2msympy     \u001b[0m \u001b[32m-------\u001b[2m-----------------------\u001b[0m\u001b[0m 1.30 MB/6.19 MB\n",
      "\u001b[2mtransformers\u001b[0m \u001b[32m-------\u001b[2m-----------------------\u001b[0m\u001b[0m 2.07 MB/9.34 MB\n",
      "\u001b[2mnumpy     \u001b[0m \u001b[32m-----\u001b[2m-------------------------\u001b[0m\u001b[0m 1.86 MB/13.69 MB\n",
      "\u001b[2mtorch     \u001b[0m \u001b[32m--\u001b[2m----------------------------\u001b[0m\u001b[0m 2.14 MB/60.98 MB\n",
      "\u001b[2K\u001b[9A\u001b[37m⠸\u001b[0m \u001b[2mPreparing packages...\u001b[0m (2/12)-----\u001b[0m\u001b[0m 1.05 MB/104.96 MB                   \u001b[9A\n",
      "\u001b[2msafetensors\u001b[0m \u001b[32m-------------------------\u001b[2m-----\u001b[0m\u001b[0m 337.73 kB/411.13 kB\n",
      "\u001b[2mmpmath    \u001b[0m \u001b[32m------------------\u001b[2m------------\u001b[0m\u001b[0m 310.12 kB/536.20 kB\n",
      "\u001b[2msentencepiece\u001b[0m \u001b[32m----------------\u001b[2m--------------\u001b[0m\u001b[0m 618.69 kB/1.18 MB\n",
      "\u001b[2mnetworkx  \u001b[0m \u001b[32m--------------\u001b[2m----------------\u001b[0m\u001b[0m 763.71 kB/1.70 MB\n",
      "\u001b[2msympy     \u001b[0m \u001b[32m--------\u001b[2m----------------------\u001b[0m\u001b[0m 1.54 MB/6.19 MB\n",
      "\u001b[2mtransformers\u001b[0m \u001b[32m--------\u001b[2m----------------------\u001b[0m\u001b[0m 2.39 MB/9.34 MB\n",
      "\u001b[2mnumpy     \u001b[0m \u001b[32m-----\u001b[2m-------------------------\u001b[0m\u001b[0m 2.11 MB/13.69 MB\n",
      "\u001b[2mtorch     \u001b[0m \u001b[32m--\u001b[2m----------------------------\u001b[0m\u001b[0m 2.45 MB/60.98 MB\n",
      "\u001b[2K\u001b[9A\u001b[37m⠼\u001b[0m \u001b[2mPreparing packages...\u001b[0m (3/12)-----\u001b[0m\u001b[0m 1.21 MB/104.96 MB                   \u001b[9A\n",
      "\u001b[2msafetensors\u001b[0m \u001b[32m----------------------------\u001b[2m--\u001b[0m\u001b[0m 370.50 kB/411.13 kB\n",
      "\u001b[2mmpmath    \u001b[0m \u001b[32m-------------------\u001b[2m-----------\u001b[0m\u001b[0m 326.50 kB/536.20 kB\n",
      "\u001b[2msentencepiece\u001b[0m \u001b[32m------------------\u001b[2m------------\u001b[0m\u001b[0m 684.23 kB/1.18 MB\n",
      "\u001b[2mnetworkx  \u001b[0m \u001b[32m---------------\u001b[2m---------------\u001b[0m\u001b[0m 840.51 kB/1.70 MB\n",
      "\u001b[2msympy     \u001b[0m \u001b[32m--------\u001b[2m----------------------\u001b[0m\u001b[0m 1.64 MB/6.19 MB\n",
      "\u001b[2mtransformers\u001b[0m \u001b[32m---------\u001b[2m---------------------\u001b[0m\u001b[0m 2.66 MB/9.34 MB\n",
      "\u001b[2mnumpy     \u001b[0m \u001b[32m-----\u001b[2m-------------------------\u001b[0m\u001b[0m 2.28 MB/13.69 MB\n",
      "\u001b[2mtorch     \u001b[0m \u001b[32m--\u001b[2m----------------------------\u001b[0m\u001b[0m 2.70 MB/60.98 MB\n",
      "\u001b[2K\u001b[9A\u001b[37m⠼\u001b[0m \u001b[2mPreparing packages...\u001b[0m (3/12)-----\u001b[0m\u001b[0m 1.33 MB/104.96 MB                   \u001b[9A\n",
      "\u001b[2mmpmath    \u001b[0m \u001b[32m---------------------\u001b[2m---------\u001b[0m\u001b[0m 359.27 kB/536.20 kB\n",
      "\u001b[2msentencepiece\u001b[0m \u001b[32m-------------------\u001b[2m-----------\u001b[0m\u001b[0m 733.38 kB/1.18 MB\n",
      "\u001b[2mnetworkx  \u001b[0m \u001b[32m-----------------\u001b[2m-------------\u001b[0m\u001b[0m 922.43 kB/1.70 MB\n",
      "\u001b[2msympy     \u001b[0m \u001b[32m---------\u001b[2m---------------------\u001b[0m\u001b[0m 1.78 MB/6.19 MB\n",
      "\u001b[2mtransformers\u001b[0m \u001b[32m----------\u001b[2m--------------------\u001b[0m\u001b[0m 2.82 MB/9.34 MB\n",
      "\u001b[2mnumpy     \u001b[0m \u001b[32m------\u001b[2m------------------------\u001b[0m\u001b[0m 2.34 MB/13.69 MB\n",
      "\u001b[2mtorch     \u001b[0m \u001b[32m--\u001b[2m----------------------------\u001b[0m\u001b[0m 2.71 MB/60.98 MB\n",
      "\u001b[2K\u001b[8A\u001b[37m⠼\u001b[0m \u001b[2mPreparing packages...\u001b[0m (3/12)-----\u001b[0m\u001b[0m 1.44 MB/104.96 MB                   \u001b[8A\n",
      "\u001b[2mmpmath    \u001b[0m \u001b[32m---------------------\u001b[2m---------\u001b[0m\u001b[0m 359.27 kB/536.20 kB\n",
      "\u001b[2msentencepiece\u001b[0m \u001b[32m--------------------\u001b[2m----------\u001b[0m\u001b[0m 749.77 kB/1.18 MB\n",
      "\u001b[2mnetworkx  \u001b[0m \u001b[32m-----------------\u001b[2m-------------\u001b[0m\u001b[0m 938.82 kB/1.70 MB\n",
      "\u001b[2msympy     \u001b[0m \u001b[32m---------\u001b[2m---------------------\u001b[0m\u001b[0m 1.80 MB/6.19 MB\n",
      "\u001b[2mtransformers\u001b[0m \u001b[32m----------\u001b[2m--------------------\u001b[0m\u001b[0m 2.84 MB/9.34 MB\n",
      "\u001b[2mnumpy     \u001b[0m \u001b[32m------\u001b[2m------------------------\u001b[0m\u001b[0m 2.52 MB/13.69 MB\n",
      "\u001b[2mtorch     \u001b[0m \u001b[32m--\u001b[2m----------------------------\u001b[0m\u001b[0m 2.83 MB/60.98 MB\n",
      "\u001b[2K\u001b[8A\u001b[37m⠼\u001b[0m \u001b[2mPreparing packages...\u001b[0m (3/12)-----\u001b[0m\u001b[0m 1.47 MB/104.96 MB                   \u001b[8A\n",
      "\u001b[2mmpmath    \u001b[0m \u001b[32m---------------------\u001b[2m---------\u001b[0m\u001b[0m 359.27 kB/536.20 kB\n",
      "\u001b[2msentencepiece\u001b[0m \u001b[32m---------------------\u001b[2m---------\u001b[0m\u001b[0m 798.92 kB/1.18 MB\n",
      "\u001b[2mnetworkx  \u001b[0m \u001b[32m------------------\u001b[2m------------\u001b[0m\u001b[0m 987.97 kB/1.70 MB\n",
      "\u001b[2msympy     \u001b[0m \u001b[32m---------\u001b[2m---------------------\u001b[0m\u001b[0m 1.83 MB/6.19 MB\n",
      "\u001b[2mtransformers\u001b[0m \u001b[32m----------\u001b[2m--------------------\u001b[0m\u001b[0m 2.99 MB/9.34 MB\n",
      "\u001b[2mnumpy     \u001b[0m \u001b[32m------\u001b[2m------------------------\u001b[0m\u001b[0m 2.56 MB/13.69 MB\n",
      "\u001b[2mtorch     \u001b[0m \u001b[32m--\u001b[2m----------------------------\u001b[0m\u001b[0m 3.09 MB/60.98 MB\n",
      "\u001b[2K\u001b[8A\u001b[37m⠴\u001b[0m \u001b[2mPreparing packages...\u001b[0m (4/12)-----\u001b[0m\u001b[0m 1.54 MB/104.96 MB                   \u001b[8A\n",
      "\u001b[2mmpmath    \u001b[0m \u001b[32m----------------------\u001b[2m--------\u001b[0m\u001b[0m 392.04 kB/536.20 kB\n",
      "\u001b[2msentencepiece\u001b[0m \u001b[32m----------------------\u001b[2m--------\u001b[0m\u001b[0m 848.07 kB/1.18 MB\n",
      "\u001b[2mnetworkx  \u001b[0m \u001b[32m------------------\u001b[2m------------\u001b[0m\u001b[0m 987.97 kB/1.70 MB\n",
      "\u001b[2msympy     \u001b[0m \u001b[32m----------\u001b[2m--------------------\u001b[0m\u001b[0m 1.97 MB/6.19 MB\n",
      "\u001b[2mtransformers\u001b[0m \u001b[32m-----------\u001b[2m-------------------\u001b[0m\u001b[0m 3.12 MB/9.34 MB\n",
      "\u001b[2mnumpy     \u001b[0m \u001b[32m------\u001b[2m------------------------\u001b[0m\u001b[0m 2.56 MB/13.69 MB\n",
      "\u001b[2mtorch     \u001b[0m \u001b[32m--\u001b[2m----------------------------\u001b[0m\u001b[0m 3.09 MB/60.98 MB\n",
      "\u001b[2K\u001b[8A\u001b[37m⠴\u001b[0m \u001b[2mPreparing packages...\u001b[0m (4/12)-----\u001b[0m\u001b[0m 1.54 MB/104.96 MB                   \u001b[8A\n",
      "\u001b[2mmpmath    \u001b[0m \u001b[32m------------------------\u001b[2m------\u001b[0m\u001b[0m 424.81 kB/536.20 kB\n",
      "\u001b[2msentencepiece\u001b[0m \u001b[32m----------------------\u001b[2m--------\u001b[0m\u001b[0m 848.07 kB/1.18 MB\n",
      "\u001b[2mnetworkx  \u001b[0m \u001b[32m-------------------\u001b[2m-----------\u001b[0m\u001b[0m 1.04 MB/1.70 MB\n",
      "\u001b[2msympy     \u001b[0m \u001b[32m-----------\u001b[2m-------------------\u001b[0m\u001b[0m 2.07 MB/6.19 MB\n",
      "\u001b[2mtransformers\u001b[0m \u001b[32m-----------\u001b[2m-------------------\u001b[0m\u001b[0m 3.16 MB/9.34 MB\n",
      "\u001b[2mnumpy     \u001b[0m \u001b[32m------\u001b[2m------------------------\u001b[0m\u001b[0m 2.73 MB/13.69 MB\n",
      "\u001b[2mtorch     \u001b[0m \u001b[32m--\u001b[2m----------------------------\u001b[0m\u001b[0m 3.21 MB/60.98 MB\n",
      "\u001b[2K\u001b[8A\u001b[37m⠴\u001b[0m \u001b[2mPreparing packages...\u001b[0m (4/12)-----\u001b[0m\u001b[0m 1.80 MB/104.96 MB                   \u001b[8A\n",
      "\u001b[2mmpmath    \u001b[0m \u001b[32m-------------------------\u001b[2m-----\u001b[0m\u001b[0m 441.19 kB/536.20 kB\n",
      "\u001b[2msentencepiece\u001b[0m \u001b[32m-------------------------\u001b[2m-----\u001b[0m\u001b[0m 962.76 kB/1.18 MB\n",
      "\u001b[2mnetworkx  \u001b[0m \u001b[32m----------------------\u001b[2m--------\u001b[0m\u001b[0m 1.22 MB/1.70 MB\n",
      "\u001b[2msympy     \u001b[0m \u001b[32m-----------\u001b[2m-------------------\u001b[0m\u001b[0m 2.26 MB/6.19 MB\n",
      "\u001b[2mtransformers\u001b[0m \u001b[32m------------\u001b[2m------------------\u001b[0m\u001b[0m 3.43 MB/9.34 MB\n",
      "\u001b[2mnumpy     \u001b[0m \u001b[32m-------\u001b[2m-----------------------\u001b[0m\u001b[0m 3.15 MB/13.69 MB\n",
      "\u001b[2mtorch     \u001b[0m \u001b[32m--\u001b[2m----------------------------\u001b[0m\u001b[0m 3.78 MB/60.98 MB\n",
      "\u001b[2K\u001b[8A\u001b[37m⠴\u001b[0m \u001b[2mPreparing packages...\u001b[0m (4/12)-----\u001b[0m\u001b[0m 1.88 MB/104.96 MB                   \u001b[8A\n",
      "\u001b[2mmpmath    \u001b[0m \u001b[32m-------------------------\u001b[2m-----\u001b[0m\u001b[0m 441.19 kB/536.20 kB\n",
      "\u001b[2msentencepiece\u001b[0m \u001b[32m-------------------------\u001b[2m-----\u001b[0m\u001b[0m 979.14 kB/1.18 MB\n",
      "\u001b[2mnetworkx  \u001b[0m \u001b[32m----------------------\u001b[2m--------\u001b[0m\u001b[0m 1.23 MB/1.70 MB\n",
      "\u001b[2msympy     \u001b[0m \u001b[32m------------\u001b[2m------------------\u001b[0m\u001b[0m 2.28 MB/6.19 MB\n",
      "\u001b[2mtransformers\u001b[0m \u001b[32m------------\u001b[2m------------------\u001b[0m\u001b[0m 3.50 MB/9.34 MB\n",
      "\u001b[2mnumpy     \u001b[0m \u001b[32m-------\u001b[2m-----------------------\u001b[0m\u001b[0m 3.15 MB/13.69 MB\n",
      "\u001b[2mtorch     \u001b[0m \u001b[32m--\u001b[2m----------------------------\u001b[0m\u001b[0m 3.83 MB/60.98 MB\n",
      "\u001b[2K\u001b[8A\u001b[37m⠴\u001b[0m \u001b[2mPreparing packages...\u001b[0m (4/12)-----\u001b[0m\u001b[0m 1.88 MB/104.96 MB                   \u001b[8A\n",
      "\u001b[2mmpmath    \u001b[0m \u001b[32m---------------------------\u001b[2m---\u001b[0m\u001b[0m 473.96 kB/536.20 kB\n",
      "\u001b[2msentencepiece\u001b[0m \u001b[32m---------------------------\u001b[2m---\u001b[0m\u001b[0m 1.03 MB/1.18 MB\n",
      "\u001b[2mnetworkx  \u001b[0m \u001b[32m-----------------------\u001b[2m-------\u001b[0m\u001b[0m 1.30 MB/1.70 MB\n",
      "\u001b[2msympy     \u001b[0m \u001b[32m------------\u001b[2m------------------\u001b[0m\u001b[0m 2.43 MB/6.19 MB\n",
      "\u001b[2mtransformers\u001b[0m \u001b[32m-------------\u001b[2m-----------------\u001b[0m\u001b[0m 3.87 MB/9.34 MB\n",
      "\u001b[2mnumpy     \u001b[0m \u001b[32m--------\u001b[2m----------------------\u001b[0m\u001b[0m 3.29 MB/13.69 MB\n",
      "\u001b[2mtorch     \u001b[0m \u001b[32m---\u001b[2m---------------------------\u001b[0m\u001b[0m 4.16 MB/60.98 MB\n",
      "\u001b[2K\u001b[8A\u001b[37m⠦\u001b[0m \u001b[2mPreparing packages...\u001b[0m (4/12)-----\u001b[0m\u001b[0m 2.03 MB/104.96 MB                   \u001b[8A\n",
      "\u001b[2mmpmath    \u001b[0m \u001b[32m----------------------------\u001b[2m--\u001b[0m\u001b[0m 490.34 kB/536.20 kB\n",
      "\u001b[2msentencepiece\u001b[0m \u001b[32m----------------------------\u001b[2m--\u001b[0m\u001b[0m 1.08 MB/1.18 MB\n",
      "\u001b[2mnetworkx  \u001b[0m \u001b[32m-------------------------\u001b[2m-----\u001b[0m\u001b[0m 1.38 MB/1.70 MB\n",
      "\u001b[2msympy     \u001b[0m \u001b[32m-------------\u001b[2m-----------------\u001b[0m\u001b[0m 2.61 MB/6.19 MB\n",
      "\u001b[2mtransformers\u001b[0m \u001b[32m--------------\u001b[2m----------------\u001b[0m\u001b[0m 4.08 MB/9.34 MB\n",
      "\u001b[2mnumpy     \u001b[0m \u001b[32m--------\u001b[2m----------------------\u001b[0m\u001b[0m 3.40 MB/13.69 MB\n",
      "\u001b[2mtorch     \u001b[0m \u001b[32m---\u001b[2m---------------------------\u001b[0m\u001b[0m 4.34 MB/60.98 MB\n",
      "\u001b[2K\u001b[8A\u001b[37m⠦\u001b[0m \u001b[2mPreparing packages...\u001b[0m (4/12)-----\u001b[0m\u001b[0m 2.11 MB/104.96 MB                   \u001b[8A\n",
      "\u001b[2msentencepiece\u001b[0m \u001b[32m------------------------------\u001b[2m\u001b[0m\u001b[0m 1.16 MB/1.18 MB\n",
      "\u001b[2mnetworkx  \u001b[0m \u001b[32m---------------------------\u001b[2m---\u001b[0m\u001b[0m 1.50 MB/1.70 MB\n",
      "\u001b[2msympy     \u001b[0m \u001b[32m--------------\u001b[2m----------------\u001b[0m\u001b[0m 2.81 MB/6.19 MB\n",
      "\u001b[2mtransformers\u001b[0m \u001b[32m---------------\u001b[2m---------------\u001b[0m\u001b[0m 4.37 MB/9.34 MB\n",
      "\u001b[2mnumpy     \u001b[0m \u001b[32m---------\u001b[2m---------------------\u001b[0m\u001b[0m 3.68 MB/13.69 MB\n",
      "\u001b[2mtorch     \u001b[0m \u001b[32m---\u001b[2m---------------------------\u001b[0m\u001b[0m 4.60 MB/60.98 MB\n",
      "\u001b[2K\u001b[7A\u001b[37m⠦\u001b[0m \u001b[2mPreparing packages...\u001b[0m (4/12)-----\u001b[0m\u001b[0m 2.26 MB/104.96 MB                   \u001b[7A\n",
      "\u001b[2msentencepiece\u001b[0m \u001b[32m------------------------------\u001b[2m\u001b[0m\u001b[0m 1.16 MB/1.18 MB\n",
      "\u001b[2mnetworkx  \u001b[0m \u001b[32m---------------------------\u001b[2m---\u001b[0m\u001b[0m 1.51 MB/1.70 MB\n",
      "\u001b[2msympy     \u001b[0m \u001b[32m--------------\u001b[2m----------------\u001b[0m\u001b[0m 2.84 MB/6.19 MB\n",
      "\u001b[2mtransformers\u001b[0m \u001b[32m---------------\u001b[2m---------------\u001b[0m\u001b[0m 4.46 MB/9.34 MB\n",
      "\u001b[2mnumpy     \u001b[0m \u001b[32m---------\u001b[2m---------------------\u001b[0m\u001b[0m 3.70 MB/13.69 MB\n",
      "\u001b[2mtorch     \u001b[0m \u001b[32m---\u001b[2m---------------------------\u001b[0m\u001b[0m 4.62 MB/60.98 MB\n",
      "\u001b[2K\u001b[7A\u001b[37m⠦\u001b[0m \u001b[2mPreparing packages...\u001b[0m (4/12)-----\u001b[0m\u001b[0m 2.28 MB/104.96 MB                   \u001b[7A\n",
      "\u001b[2mnetworkx  \u001b[0m \u001b[32m---------------------------\u001b[2m---\u001b[0m\u001b[0m 1.53 MB/1.70 MB\n",
      "\u001b[2msympy     \u001b[0m \u001b[32m--------------\u001b[2m----------------\u001b[0m\u001b[0m 2.88 MB/6.19 MB\n",
      "\u001b[2mtransformers\u001b[0m \u001b[32m---------------\u001b[2m---------------\u001b[0m\u001b[0m 4.52 MB/9.34 MB\n",
      "\u001b[2mnumpy     \u001b[0m \u001b[32m---------\u001b[2m---------------------\u001b[0m\u001b[0m 3.76 MB/13.69 MB\n",
      "\u001b[2mtorch     \u001b[0m \u001b[32m---\u001b[2m---------------------------\u001b[0m\u001b[0m 4.68 MB/60.98 MB\n",
      "\u001b[2K\u001b[6A\u001b[37m⠦\u001b[0m \u001b[2mPreparing packages...\u001b[0m (4/12)-----\u001b[0m\u001b[0m 2.31 MB/104.96 MB                   \u001b[6A\n",
      "\u001b[2mnetworkx  \u001b[0m \u001b[32m-----------------------------\u001b[2m-\u001b[0m\u001b[0m 1.59 MB/1.70 MB\n",
      "\u001b[2msympy     \u001b[0m \u001b[32m---------------\u001b[2m---------------\u001b[0m\u001b[0m 3.01 MB/6.19 MB\n",
      "\u001b[2mtransformers\u001b[0m \u001b[32m----------------\u001b[2m--------------\u001b[0m\u001b[0m 4.75 MB/9.34 MB\n",
      "\u001b[2mnumpy     \u001b[0m \u001b[32m---------\u001b[2m---------------------\u001b[0m\u001b[0m 3.91 MB/13.69 MB\n",
      "\u001b[2mtorch     \u001b[0m \u001b[32m---\u001b[2m---------------------------\u001b[0m\u001b[0m 4.88 MB/60.98 MB\n",
      "\u001b[2K\u001b[6A\u001b[37m⠦\u001b[0m \u001b[2mPreparing packages...\u001b[0m (4/12)-----\u001b[0m\u001b[0m 2.41 MB/104.96 MB                   \u001b[6A\n",
      "\u001b[2msympy     \u001b[0m \u001b[32m----------------\u001b[2m--------------\u001b[0m\u001b[0m 3.11 MB/6.19 MB\n",
      "\u001b[2mtransformers\u001b[0m \u001b[32m-----------------\u001b[2m-------------\u001b[0m\u001b[0m 5.02 MB/9.34 MB\n",
      "\u001b[2mnumpy     \u001b[0m \u001b[32m----------\u001b[2m--------------------\u001b[0m\u001b[0m 4.15 MB/13.69 MB\n",
      "\u001b[2mtorch     \u001b[0m \u001b[32m---\u001b[2m---------------------------\u001b[0m\u001b[0m 5.19 MB/60.98 MB\n",
      "\u001b[2K\u001b[5A\u001b[37m⠦\u001b[0m \u001b[2mPreparing packages...\u001b[0m (4/12)-----\u001b[0m\u001b[0m 2.54 MB/104.96 MB                   \u001b[5A\n",
      "\u001b[2msympy     \u001b[0m \u001b[32m----------------\u001b[2m--------------\u001b[0m\u001b[0m 3.23 MB/6.19 MB\n",
      "\u001b[2mtransformers\u001b[0m \u001b[32m-----------------\u001b[2m-------------\u001b[0m\u001b[0m 5.10 MB/9.34 MB\n",
      "\u001b[2mnumpy     \u001b[0m \u001b[32m----------\u001b[2m--------------------\u001b[0m\u001b[0m 4.18 MB/13.69 MB\n",
      "\u001b[2mtorch     \u001b[0m \u001b[32m---\u001b[2m---------------------------\u001b[0m\u001b[0m 5.22 MB/60.98 MB\n",
      "\u001b[2K\u001b[5A\u001b[37m⠧\u001b[0m \u001b[2mPreparing packages...\u001b[0m (7/12)-----\u001b[0m\u001b[0m 2.56 MB/104.96 MB                   \u001b[5A\n",
      "\u001b[2msympy     \u001b[0m \u001b[32m-----------------\u001b[2m-------------\u001b[0m\u001b[0m 3.43 MB/6.19 MB\n",
      "\u001b[2mtransformers\u001b[0m \u001b[32m------------------\u001b[2m------------\u001b[0m\u001b[0m 5.39 MB/9.34 MB\n",
      "\u001b[2mnumpy     \u001b[0m \u001b[32m----------\u001b[2m--------------------\u001b[0m\u001b[0m 4.41 MB/13.69 MB\n",
      "\u001b[2mtorch     \u001b[0m \u001b[32m---\u001b[2m---------------------------\u001b[0m\u001b[0m 5.54 MB/60.98 MB\n",
      "\u001b[2K\u001b[5A\u001b[37m⠧\u001b[0m \u001b[2mPreparing packages...\u001b[0m (7/12)-----\u001b[0m\u001b[0m 2.70 MB/104.96 MB                   \u001b[5A\n",
      "\u001b[2msympy     \u001b[0m \u001b[32m------------------\u001b[2m------------\u001b[0m\u001b[0m 3.65 MB/6.19 MB\n",
      "\u001b[2mtransformers\u001b[0m \u001b[32m-------------------\u001b[2m-----------\u001b[0m\u001b[0m 5.71 MB/9.34 MB\n",
      "\u001b[2mnumpy     \u001b[0m \u001b[32m-----------\u001b[2m-------------------\u001b[0m\u001b[0m 4.65 MB/13.69 MB\n",
      "\u001b[2mtorch     \u001b[0m \u001b[32m---\u001b[2m---------------------------\u001b[0m\u001b[0m 5.88 MB/60.98 MB\n",
      "\u001b[2K\u001b[5A\u001b[37m⠧\u001b[0m \u001b[2mPreparing packages...\u001b[0m (7/12)-----\u001b[0m\u001b[0m 2.83 MB/104.96 MB                   \u001b[5A\n",
      "\u001b[2msympy     \u001b[0m \u001b[32m-------------------\u001b[2m-----------\u001b[0m\u001b[0m 3.84 MB/6.19 MB\n",
      "\u001b[2mtransformers\u001b[0m \u001b[32m--------------------\u001b[2m----------\u001b[0m\u001b[0m 6.01 MB/9.34 MB\n",
      "\u001b[2mnumpy     \u001b[0m \u001b[32m-----------\u001b[2m-------------------\u001b[0m\u001b[0m 4.86 MB/13.69 MB\n",
      "\u001b[2mtorch     \u001b[0m \u001b[32m----\u001b[2m--------------------------\u001b[0m\u001b[0m 6.16 MB/60.98 MB\n",
      "\u001b[2K\u001b[5A\u001b[37m⠧\u001b[0m \u001b[2mPreparing packages...\u001b[0m (7/12)-----\u001b[0m\u001b[0m 2.95 MB/104.96 MB                   \u001b[5A\n",
      "\u001b[2msympy     \u001b[0m \u001b[32m--------------------\u001b[2m----------\u001b[0m\u001b[0m 4.04 MB/6.19 MB\n",
      "\u001b[2mtransformers\u001b[0m \u001b[32m---------------------\u001b[2m---------\u001b[0m\u001b[0m 6.26 MB/9.34 MB\n",
      "\u001b[2mnumpy     \u001b[0m \u001b[32m------------\u001b[2m------------------\u001b[0m\u001b[0m 5.11 MB/13.69 MB\n",
      "\u001b[2mtorch     \u001b[0m \u001b[32m----\u001b[2m--------------------------\u001b[0m\u001b[0m 6.46 MB/60.98 MB\n",
      "\u001b[2K\u001b[5A\u001b[37m⠇\u001b[0m \u001b[2mPreparing packages...\u001b[0m (7/12)-----\u001b[0m\u001b[0m 3.10 MB/104.96 MB                   \u001b[5A\n",
      "\u001b[2msympy     \u001b[0m \u001b[32m---------------------\u001b[2m---------\u001b[0m\u001b[0m 4.31 MB/6.19 MB\n",
      "\u001b[2mtransformers\u001b[0m \u001b[32m----------------------\u001b[2m--------\u001b[0m\u001b[0m 6.65 MB/9.34 MB\n",
      "\u001b[2mnumpy     \u001b[0m \u001b[32m------------\u001b[2m------------------\u001b[0m\u001b[0m 5.34 MB/13.69 MB\n",
      "\u001b[2mtorch     \u001b[0m \u001b[32m----\u001b[2m--------------------------\u001b[0m\u001b[0m 6.89 MB/60.98 MB\n",
      "\u001b[2K\u001b[5A\u001b[37m⠇\u001b[0m \u001b[2mPreparing packages...\u001b[0m (7/12)-----\u001b[0m\u001b[0m 3.24 MB/104.96 MB                   \u001b[5A\n",
      "\u001b[2msympy     \u001b[0m \u001b[32m----------------------\u001b[2m--------\u001b[0m\u001b[0m 4.50 MB/6.19 MB\n",
      "\u001b[2mtransformers\u001b[0m \u001b[32m----------------------\u001b[2m--------\u001b[0m\u001b[0m 6.74 MB/9.34 MB\n",
      "\u001b[2mnumpy     \u001b[0m \u001b[32m-------------\u001b[2m-----------------\u001b[0m\u001b[0m 5.56 MB/13.69 MB\n",
      "\u001b[2mtorch     \u001b[0m \u001b[32m----\u001b[2m--------------------------\u001b[0m\u001b[0m 7.21 MB/60.98 MB\n",
      "\u001b[2K\u001b[5A\u001b[37m⠇\u001b[0m \u001b[2mPreparing packages...\u001b[0m (7/12)-----\u001b[0m\u001b[0m 3.36 MB/104.96 MB                   \u001b[5A\n",
      "\u001b[2msympy     \u001b[0m \u001b[32m------------------------\u001b[2m------\u001b[0m\u001b[0m 4.76 MB/6.19 MB\n",
      "\u001b[2mtransformers\u001b[0m \u001b[32m------------------------\u001b[2m------\u001b[0m\u001b[0m 7.16 MB/9.34 MB\n",
      "\u001b[2mnumpy     \u001b[0m \u001b[32m-------------\u001b[2m-----------------\u001b[0m\u001b[0m 5.82 MB/13.69 MB\n",
      "\u001b[2mtorch     \u001b[0m \u001b[32m----\u001b[2m--------------------------\u001b[0m\u001b[0m 7.65 MB/60.98 MB\n",
      "\u001b[2K\u001b[5A\u001b[37m⠇\u001b[0m \u001b[2mPreparing packages...\u001b[0m (7/12)-----\u001b[0m\u001b[0m 3.55 MB/104.96 MB                   \u001b[5A\n",
      "\u001b[2msympy     \u001b[0m \u001b[32m-------------------------\u001b[2m-----\u001b[0m\u001b[0m 4.96 MB/6.19 MB\n",
      "\u001b[2mtransformers\u001b[0m \u001b[32m------------------------\u001b[2m------\u001b[0m\u001b[0m 7.45 MB/9.34 MB\n",
      "\u001b[2mnumpy     \u001b[0m \u001b[32m--------------\u001b[2m----------------\u001b[0m\u001b[0m 6.08 MB/13.69 MB\n",
      "\u001b[2mtorch     \u001b[0m \u001b[32m----\u001b[2m--------------------------\u001b[0m\u001b[0m 7.96 MB/60.98 MB\n",
      "\u001b[2K\u001b[5A\u001b[37m⠋\u001b[0m \u001b[2mPreparing packages...\u001b[0m (7/12)-----\u001b[0m\u001b[0m 3.70 MB/104.96 MB                   \u001b[5A\n",
      "\u001b[2msympy     \u001b[0m \u001b[32m--------------------------\u001b[2m----\u001b[0m\u001b[0m 5.16 MB/6.19 MB\n",
      "\u001b[2mtransformers\u001b[0m \u001b[32m-------------------------\u001b[2m-----\u001b[0m\u001b[0m 7.76 MB/9.34 MB\n",
      "\u001b[2mnumpy     \u001b[0m \u001b[32m--------------\u001b[2m----------------\u001b[0m\u001b[0m 6.29 MB/13.69 MB\n",
      "\u001b[2mtorch     \u001b[0m \u001b[32m-----\u001b[2m-------------------------\u001b[0m\u001b[0m 8.32 MB/60.98 MB\n",
      "\u001b[2K\u001b[5A\u001b[37m⠋\u001b[0m \u001b[2mPreparing packages...\u001b[0m (7/12)-----\u001b[0m\u001b[0m 3.83 MB/104.96 MB                   \u001b[5A\n",
      "\u001b[2msympy     \u001b[0m \u001b[32m--------------------------\u001b[2m----\u001b[0m\u001b[0m 5.22 MB/6.19 MB\n",
      "\u001b[2mtransformers\u001b[0m \u001b[32m--------------------------\u001b[2m----\u001b[0m\u001b[0m 7.83 MB/9.34 MB\n",
      "\u001b[2mnumpy     \u001b[0m \u001b[32m---------------\u001b[2m---------------\u001b[0m\u001b[0m 6.61 MB/13.69 MB\n",
      "\u001b[2mtorch     \u001b[0m \u001b[32m-----\u001b[2m-------------------------\u001b[0m\u001b[0m 8.37 MB/60.98 MB\n",
      "\u001b[2K\u001b[5A\u001b[37m⠋\u001b[0m \u001b[2mPreparing packages...\u001b[0m (7/12)-----\u001b[0m\u001b[0m 4.00 MB/104.96 MB                   \u001b[5A\n",
      "\u001b[2msympy     \u001b[0m \u001b[32m---------------------------\u001b[2m---\u001b[0m\u001b[0m 5.46 MB/6.19 MB\n",
      "\u001b[2mtransformers\u001b[0m \u001b[32m--------------------------\u001b[2m----\u001b[0m\u001b[0m 8.02 MB/9.34 MB\n",
      "\u001b[2mnumpy     \u001b[0m \u001b[32m---------------\u001b[2m---------------\u001b[0m\u001b[0m 6.84 MB/13.69 MB\n",
      "\u001b[2mtorch     \u001b[0m \u001b[32m-----\u001b[2m-------------------------\u001b[0m\u001b[0m 8.44 MB/60.98 MB\n",
      "\u001b[2K\u001b[5A\u001b[37m⠋\u001b[0m \u001b[2mPreparing packages...\u001b[0m (7/12)-----\u001b[0m\u001b[0m 4.19 MB/104.96 MB                   \u001b[5A\n",
      "\u001b[2msympy     \u001b[0m \u001b[32m-----------------------------\u001b[2m-\u001b[0m\u001b[0m 5.82 MB/6.19 MB\n",
      "\u001b[2mtransformers\u001b[0m \u001b[32m----------------------------\u001b[2m--\u001b[0m\u001b[0m 8.60 MB/9.34 MB\n",
      "\u001b[2mnumpy     \u001b[0m \u001b[32m----------------\u001b[2m--------------\u001b[0m\u001b[0m 7.02 MB/13.69 MB\n",
      "\u001b[2mtorch     \u001b[0m \u001b[32m-----\u001b[2m-------------------------\u001b[0m\u001b[0m 8.54 MB/60.98 MB\n",
      "\u001b[2K\u001b[5A\u001b[37m⠙\u001b[0m \u001b[2mPreparing packages...\u001b[0m (7/12)-----\u001b[0m\u001b[0m 4.32 MB/104.96 MB                   \u001b[5A\n",
      "\u001b[2msympy     \u001b[0m \u001b[32m-----------------------------\u001b[2m-\u001b[0m\u001b[0m 5.90 MB/6.19 MB\n",
      "\u001b[2mtransformers\u001b[0m \u001b[32m-----------------------------\u001b[2m-\u001b[0m\u001b[0m 8.73 MB/9.34 MB\n",
      "\u001b[2mnumpy     \u001b[0m \u001b[32m----------------\u001b[2m--------------\u001b[0m\u001b[0m 7.16 MB/13.69 MB\n",
      "\u001b[2mtorch     \u001b[0m \u001b[32m-----\u001b[2m-------------------------\u001b[0m\u001b[0m 8.63 MB/60.98 MB\n",
      "\u001b[2K\u001b[5A\u001b[37m⠙\u001b[0m \u001b[2mPreparing packages...\u001b[0m (7/12)-----\u001b[0m\u001b[0m 4.45 MB/104.96 MB                   \u001b[5A\n",
      "\u001b[2msympy     \u001b[0m \u001b[32m-----------------------------\u001b[2m-\u001b[0m\u001b[0m 5.90 MB/6.19 MB\n",
      "\u001b[2mtransformers\u001b[0m \u001b[32m-----------------------------\u001b[2m-\u001b[0m\u001b[0m 8.73 MB/9.34 MB\n",
      "\u001b[2mnumpy     \u001b[0m \u001b[32m----------------\u001b[2m--------------\u001b[0m\u001b[0m 7.16 MB/13.69 MB\n",
      "\u001b[2mtorch     \u001b[0m \u001b[32m-----\u001b[2m-------------------------\u001b[0m\u001b[0m 8.86 MB/60.98 MB\n",
      "\u001b[2K\u001b[5A\u001b[37m⠙\u001b[0m \u001b[2mPreparing packages...\u001b[0m (7/12)-----\u001b[0m\u001b[0m 4.45 MB/104.96 MB                   \u001b[5A\n",
      "\u001b[2msympy     \u001b[0m \u001b[32m-----------------------------\u001b[2m-\u001b[0m\u001b[0m 5.95 MB/6.19 MB\n",
      "\u001b[2mtransformers\u001b[0m \u001b[32m-----------------------------\u001b[2m-\u001b[0m\u001b[0m 8.82 MB/9.34 MB\n",
      "\u001b[2mnumpy     \u001b[0m \u001b[32m----------------\u001b[2m--------------\u001b[0m\u001b[0m 7.29 MB/13.69 MB\n",
      "\u001b[2mtorch     \u001b[0m \u001b[32m-----\u001b[2m-------------------------\u001b[0m\u001b[0m 8.94 MB/60.98 MB\n",
      "\u001b[2K\u001b[5A\u001b[37m⠙\u001b[0m \u001b[2mPreparing packages...\u001b[0m (7/12)-----\u001b[0m\u001b[0m 4.45 MB/104.96 MB                   \u001b[5A\n",
      "\u001b[2mtransformers\u001b[0m \u001b[32m-----------------------------\u001b[2m-\u001b[0m\u001b[0m 8.92 MB/9.34 MB\n",
      "\u001b[2mnumpy     \u001b[0m \u001b[32m------------------\u001b[2m------------\u001b[0m\u001b[0m 7.89 MB/13.69 MB\n",
      "\u001b[2mtorch     \u001b[0m \u001b[32m-----\u001b[2m-------------------------\u001b[0m\u001b[0m 8.96 MB/60.98 MB\n",
      "\u001b[2K\u001b[4A\u001b[37m⠙\u001b[0m \u001b[2mPreparing packages...\u001b[0m (7/12)-----\u001b[0m\u001b[0m 4.78 MB/104.96 MB                   \u001b[4A\n",
      "\u001b[2mnumpy     \u001b[0m \u001b[32m------------------\u001b[2m------------\u001b[0m\u001b[0m 7.99 MB/13.69 MB\n",
      "\u001b[2mtorch     \u001b[0m \u001b[32m-----\u001b[2m-------------------------\u001b[0m\u001b[0m 8.99 MB/60.98 MB\n",
      "\u001b[2K\u001b[3A\u001b[37m⠙\u001b[0m \u001b[2mPreparing packages...\u001b[0m (7/12)-----\u001b[0m\u001b[0m 4.83 MB/104.96 MB                   \u001b[3A\n",
      "\u001b[2mnumpy     \u001b[0m \u001b[32m------------------\u001b[2m------------\u001b[0m\u001b[0m 8.02 MB/13.69 MB\n",
      "\u001b[2mtorch     \u001b[0m \u001b[32m-----\u001b[2m-------------------------\u001b[0m\u001b[0m 9.01 MB/60.98 MB\n",
      "\u001b[2K\u001b[3A\u001b[37m⠹\u001b[0m \u001b[2mPreparing packages...\u001b[0m (9/12)-----\u001b[0m\u001b[0m 4.85 MB/104.96 MB                   \u001b[3A\n",
      "\u001b[2mnumpy     \u001b[0m \u001b[32m-------------------\u001b[2m-----------\u001b[0m\u001b[0m 8.23 MB/13.69 MB\n",
      "\u001b[2mtorch     \u001b[0m \u001b[32m-----\u001b[2m-------------------------\u001b[0m\u001b[0m 9.21 MB/60.98 MB\n",
      "\u001b[2K\u001b[3A\u001b[37m⠹\u001b[0m \u001b[2mPreparing packages...\u001b[0m (9/12)-----\u001b[0m\u001b[0m 4.98 MB/104.96 MB                   \u001b[3A\n",
      "\u001b[2mnumpy     \u001b[0m \u001b[32m-------------------\u001b[2m-----------\u001b[0m\u001b[0m 8.51 MB/13.69 MB\n",
      "\u001b[2mtorch     \u001b[0m \u001b[32m-----\u001b[2m-------------------------\u001b[0m\u001b[0m 9.42 MB/60.98 MB\n",
      "\u001b[2K\u001b[3A\u001b[37m⠹\u001b[0m \u001b[2mPreparing packages...\u001b[0m (9/12)-----\u001b[0m\u001b[0m 5.13 MB/104.96 MB                   \u001b[3A\n",
      "\u001b[2mnumpy     \u001b[0m \u001b[32m--------------------\u001b[2m----------\u001b[0m\u001b[0m 8.80 MB/13.69 MB\n",
      "\u001b[2mtorch     \u001b[0m \u001b[32m-----\u001b[2m-------------------------\u001b[0m\u001b[0m 9.61 MB/60.98 MB\n",
      "\u001b[2K\u001b[3A\u001b[37m⠹\u001b[0m \u001b[2mPreparing packages...\u001b[0m (9/12)-----\u001b[0m\u001b[0m 5.33 MB/104.96 MB                   \u001b[3A\n",
      "\u001b[2mnumpy     \u001b[0m \u001b[32m--------------------\u001b[2m----------\u001b[0m\u001b[0m 9.06 MB/13.69 MB\n",
      "\u001b[2mtorch     \u001b[0m \u001b[32m-----\u001b[2m-------------------------\u001b[0m\u001b[0m 9.83 MB/60.98 MB\n",
      "\u001b[2K\u001b[3A\u001b[37m⠸\u001b[0m \u001b[2mPreparing packages...\u001b[0m (9/12)-----\u001b[0m\u001b[0m 5.49 MB/104.96 MB                   \u001b[3A\n",
      "\u001b[2mnumpy     \u001b[0m \u001b[32m---------------------\u001b[2m---------\u001b[0m\u001b[0m 9.45 MB/13.69 MB\n",
      "\u001b[2mtorch     \u001b[0m \u001b[32m-----\u001b[2m-------------------------\u001b[0m\u001b[0m 10.06 MB/60.98 MB\n",
      "\u001b[2K\u001b[3A\u001b[37m⠸\u001b[0m \u001b[2mPreparing packages...\u001b[0m (9/12)-----\u001b[0m\u001b[0m 5.70 MB/104.96 MB                   \u001b[3A\n",
      "\u001b[2mnumpy     \u001b[0m \u001b[32m----------------------\u001b[2m--------\u001b[0m\u001b[0m 9.83 MB/13.69 MB\n",
      "\u001b[2mtorch     \u001b[0m \u001b[32m------\u001b[2m------------------------\u001b[0m\u001b[0m 10.24 MB/60.98 MB\n",
      "\u001b[2K\u001b[3A\u001b[37m⠸\u001b[0m \u001b[2mPreparing packages...\u001b[0m (9/12)-----\u001b[0m\u001b[0m 5.89 MB/104.96 MB                   \u001b[3A\n",
      "\u001b[2mnumpy     \u001b[0m \u001b[32m-----------------------\u001b[2m-------\u001b[0m\u001b[0m 10.09 MB/13.69 MB\n",
      "\u001b[2mtorch     \u001b[0m \u001b[32m------\u001b[2m------------------------\u001b[0m\u001b[0m 10.43 MB/60.98 MB\n",
      "\u001b[2K\u001b[3A\u001b[37m⠸\u001b[0m \u001b[2mPreparing packages...\u001b[0m (9/12)-----\u001b[0m\u001b[0m 6.07 MB/104.96 MB                   \u001b[3A\n",
      "\u001b[2mnumpy     \u001b[0m \u001b[32m-----------------------\u001b[2m-------\u001b[0m\u001b[0m 10.43 MB/13.69 MB\n",
      "\u001b[2mtorch     \u001b[0m \u001b[32m------\u001b[2m------------------------\u001b[0m\u001b[0m 10.63 MB/60.98 MB\n",
      "\u001b[2K\u001b[3A\u001b[37m⠼\u001b[0m \u001b[2mPreparing packages...\u001b[0m (9/12)-----\u001b[0m\u001b[0m 6.26 MB/104.96 MB                   \u001b[3A\n",
      "\u001b[2mnumpy     \u001b[0m \u001b[32m------------------------\u001b[2m------\u001b[0m\u001b[0m 10.91 MB/13.69 MB\n",
      "\u001b[2mtorch     \u001b[0m \u001b[32m------\u001b[2m------------------------\u001b[0m\u001b[0m 10.83 MB/60.98 MB\n",
      "\u001b[2K\u001b[3A\u001b[37m⠼\u001b[0m \u001b[2mPreparing packages...\u001b[0m (9/12)-----\u001b[0m\u001b[0m 6.45 MB/104.96 MB                   \u001b[3A\n",
      "\u001b[2mnumpy     \u001b[0m \u001b[32m-------------------------\u001b[2m-----\u001b[0m\u001b[0m 11.34 MB/13.69 MB\n",
      "\u001b[2mtorch     \u001b[0m \u001b[32m------\u001b[2m------------------------\u001b[0m\u001b[0m 11.06 MB/60.98 MB\n",
      "\u001b[2K\u001b[3A\u001b[37m⠼\u001b[0m \u001b[2mPreparing packages...\u001b[0m (9/12)-----\u001b[0m\u001b[0m 6.68 MB/104.96 MB                   \u001b[3A\n",
      "\u001b[2mnumpy     \u001b[0m \u001b[32m--------------------------\u001b[2m----\u001b[0m\u001b[0m 11.65 MB/13.69 MB\n",
      "\u001b[2mtorch     \u001b[0m \u001b[32m------\u001b[2m------------------------\u001b[0m\u001b[0m 11.25 MB/60.98 MB\n",
      "\u001b[2K\u001b[3A\u001b[37m⠼\u001b[0m \u001b[2mPreparing packages...\u001b[0m (9/12)-----\u001b[0m\u001b[0m 6.89 MB/104.96 MB                   \u001b[3A\n",
      "\u001b[2mnumpy     \u001b[0m \u001b[32m---------------------------\u001b[2m---\u001b[0m\u001b[0m 12.20 MB/13.69 MB\n",
      "\u001b[2mtorch     \u001b[0m \u001b[32m------\u001b[2m------------------------\u001b[0m\u001b[0m 11.43 MB/60.98 MB\n",
      "\u001b[2K\u001b[3A\u001b[37m⠴\u001b[0m \u001b[2mPreparing packages...\u001b[0m (9/12)-----\u001b[0m\u001b[0m 7.10 MB/104.96 MB                   \u001b[3A\n",
      "\u001b[2mnumpy     \u001b[0m \u001b[32m----------------------------\u001b[2m--\u001b[0m\u001b[0m 12.72 MB/13.69 MB\n",
      "\u001b[2mtorch     \u001b[0m \u001b[32m------\u001b[2m------------------------\u001b[0m\u001b[0m 11.61 MB/60.98 MB\n",
      "\u001b[2K\u001b[3A\u001b[37m⠴\u001b[0m \u001b[2mPreparing packages...\u001b[0m (9/12)-----\u001b[0m\u001b[0m 7.32 MB/104.96 MB                   \u001b[3A\n",
      "\u001b[2mnumpy     \u001b[0m \u001b[32m------------------------------\u001b[2m\u001b[0m\u001b[0m 13.25 MB/13.69 MB\n",
      "\u001b[2mtorch     \u001b[0m \u001b[32m------\u001b[2m------------------------\u001b[0m\u001b[0m 11.81 MB/60.98 MB\n",
      "\u001b[2K\u001b[3A\u001b[37m⠴\u001b[0m \u001b[2mPreparing packages...\u001b[0m (9/12)-----\u001b[0m\u001b[0m 7.55 MB/104.96 MB                   \u001b[3A\n",
      "\u001b[2mtorch     \u001b[0m \u001b[32m------\u001b[2m------------------------\u001b[0m\u001b[0m 11.97 MB/60.98 MB\n",
      "\u001b[2K\u001b[2A\u001b[37m⠴\u001b[0m \u001b[2mPreparing packages...\u001b[0m (9/12)-----\u001b[0m\u001b[0m 7.78 MB/104.96 MB                   \u001b[2A\n",
      "\u001b[2mtorch     \u001b[0m \u001b[32m------\u001b[2m------------------------\u001b[0m\u001b[0m 12.01 MB/60.98 MB\n",
      "\u001b[2K\u001b[2A\u001b[37m⠴\u001b[0m \u001b[2mPreparing packages...\u001b[0m (9/12)-----\u001b[0m\u001b[0m 7.81 MB/104.96 MB                   \u001b[2A\n",
      "\u001b[2mtorch     \u001b[0m \u001b[32m-------\u001b[2m-----------------------\u001b[0m\u001b[0m 12.23 MB/60.98 MB\n",
      "\u001b[2K\u001b[2A\u001b[37m⠦\u001b[0m \u001b[2mPreparing packages...\u001b[0m (10/12)----\u001b[0m\u001b[0m 8.04 MB/104.96 MB                   \u001b[2A\n",
      "\u001b[2mtorch     \u001b[0m \u001b[32m-------\u001b[2m-----------------------\u001b[0m\u001b[0m 12.78 MB/60.98 MB\n",
      "\u001b[2K\u001b[2A\u001b[37m⠦\u001b[0m \u001b[2mPreparing packages...\u001b[0m (10/12)----\u001b[0m\u001b[0m 8.29 MB/104.96 MB                   \u001b[2A\n",
      "\u001b[2mtorch     \u001b[0m \u001b[32m-------\u001b[2m-----------------------\u001b[0m\u001b[0m 13.35 MB/60.98 MB\n",
      "\u001b[2K\u001b[2A\u001b[37m⠦\u001b[0m \u001b[2mPreparing packages...\u001b[0m (10/12)----\u001b[0m\u001b[0m 8.42 MB/104.96 MB                   \u001b[2A\n",
      "\u001b[2mtorch     \u001b[0m \u001b[32m-------\u001b[2m-----------------------\u001b[0m\u001b[0m 13.83 MB/60.98 MB\n",
      "\u001b[2K\u001b[2A\u001b[37m⠦\u001b[0m \u001b[2mPreparing packages...\u001b[0m (10/12)----\u001b[0m\u001b[0m 8.55 MB/104.96 MB                   \u001b[2A\n",
      "\u001b[2mtorch     \u001b[0m \u001b[32m-------\u001b[2m-----------------------\u001b[0m\u001b[0m 14.19 MB/60.98 MB\n",
      "\u001b[2K\u001b[2A\u001b[37m⠧\u001b[0m \u001b[2mPreparing packages...\u001b[0m (10/12)----\u001b[0m\u001b[0m 8.96 MB/104.96 MB                   \u001b[2A\n",
      "\u001b[2mtorch     \u001b[0m \u001b[32m--------\u001b[2m----------------------\u001b[0m\u001b[0m 14.47 MB/60.98 MB\n",
      "\u001b[2K\u001b[2A\u001b[37m⠧\u001b[0m \u001b[2mPreparing packages...\u001b[0m (10/12)----\u001b[0m\u001b[0m 9.22 MB/104.96 MB                   \u001b[2A\n",
      "\u001b[2mtorch     \u001b[0m \u001b[32m--------\u001b[2m----------------------\u001b[0m\u001b[0m 14.73 MB/60.98 MB\n",
      "\u001b[2K\u001b[2A\u001b[37m⠧\u001b[0m \u001b[2mPreparing packages...\u001b[0m (10/12)----\u001b[0m\u001b[0m 9.50 MB/104.96 MB                   \u001b[2A\n",
      "\u001b[2mtorch     \u001b[0m \u001b[32m--------\u001b[2m----------------------\u001b[0m\u001b[0m 15.02 MB/60.98 MB\n",
      "\u001b[2K\u001b[2A\u001b[37m⠧\u001b[0m \u001b[2mPreparing packages...\u001b[0m (10/12)----\u001b[0m\u001b[0m 9.80 MB/104.96 MB                   \u001b[2A\n",
      "\u001b[2mtorch     \u001b[0m \u001b[32m--------\u001b[2m----------------------\u001b[0m\u001b[0m 15.30 MB/60.98 MB\n",
      "\u001b[2K\u001b[2A\u001b[37m⠧\u001b[0m \u001b[2mPreparing packages...\u001b[0m (10/12)----\u001b[0m\u001b[0m 10.09 MB/104.96 MB                  \u001b[2A\n",
      "\u001b[2mtorch     \u001b[0m \u001b[32m--------\u001b[2m----------------------\u001b[0m\u001b[0m 15.60 MB/60.98 MB\n",
      "\u001b[2K\u001b[2A\u001b[37m⠇\u001b[0m \u001b[2mPreparing packages...\u001b[0m (10/12)----\u001b[0m\u001b[0m 10.32 MB/104.96 MB                  \u001b[2A\n",
      "\u001b[2mtorch     \u001b[0m \u001b[32m--------\u001b[2m----------------------\u001b[0m\u001b[0m 15.89 MB/60.98 MB\n",
      "\u001b[2K\u001b[2A\u001b[37m⠇\u001b[0m \u001b[2mPreparing packages...\u001b[0m (10/12)----\u001b[0m\u001b[0m 10.60 MB/104.96 MB                  \u001b[2A\n",
      "\u001b[2mtorch     \u001b[0m \u001b[32m--------\u001b[2m----------------------\u001b[0m\u001b[0m 16.17 MB/60.98 MB\n",
      "\u001b[2K\u001b[2A\u001b[37m⠇\u001b[0m \u001b[2mPreparing packages...\u001b[0m (10/12)----\u001b[0m\u001b[0m 10.89 MB/104.96 MB                  \u001b[2A\n",
      "\u001b[2mtorch     \u001b[0m \u001b[32m---------\u001b[2m---------------------\u001b[0m\u001b[0m 16.50 MB/60.98 MB\n",
      "\u001b[2K\u001b[2A\u001b[37m⠇\u001b[0m \u001b[2mPreparing packages...\u001b[0m (10/12)----\u001b[0m\u001b[0m 11.24 MB/104.96 MB                  \u001b[2A\n",
      "\u001b[2mtorch     \u001b[0m \u001b[32m---------\u001b[2m---------------------\u001b[0m\u001b[0m 16.76 MB/60.98 MB\n",
      "\u001b[2K\u001b[2A\u001b[37m⠋\u001b[0m \u001b[2mPreparing packages...\u001b[0m (10/12)----\u001b[0m\u001b[0m 11.50 MB/104.96 MB                  \u001b[2A\n",
      "\u001b[2mtorch     \u001b[0m \u001b[32m---------\u001b[2m---------------------\u001b[0m\u001b[0m 17.12 MB/60.98 MB\n",
      "\u001b[2K\u001b[2A\u001b[37m⠋\u001b[0m \u001b[2mPreparing packages...\u001b[0m (10/12)----\u001b[0m\u001b[0m 11.86 MB/104.96 MB                  \u001b[2A\n",
      "\u001b[2mtorch     \u001b[0m \u001b[32m---------\u001b[2m---------------------\u001b[0m\u001b[0m 17.42 MB/60.98 MB\n",
      "\u001b[2K\u001b[2A\u001b[37m⠋\u001b[0m \u001b[2mPreparing packages...\u001b[0m (10/12)----\u001b[0m\u001b[0m 12.14 MB/104.96 MB                  \u001b[2A\n",
      "\u001b[2mtorch     \u001b[0m \u001b[32m---------\u001b[2m---------------------\u001b[0m\u001b[0m 17.78 MB/60.98 MB\n",
      "\u001b[2K\u001b[2A\u001b[37m⠋\u001b[0m \u001b[2mPreparing packages...\u001b[0m (10/12)----\u001b[0m\u001b[0m 12.50 MB/104.96 MB                  \u001b[2A\n",
      "\u001b[2mtorch     \u001b[0m \u001b[32m---------\u001b[2m---------------------\u001b[0m\u001b[0m 18.08 MB/60.98 MB\n",
      "\u001b[2K\u001b[2A\u001b[37m⠙\u001b[0m \u001b[2mPreparing packages...\u001b[0m (10/12)----\u001b[0m\u001b[0m 12.81 MB/104.96 MB                  \u001b[2A\n",
      "\u001b[2mtorch     \u001b[0m \u001b[32m---------\u001b[2m---------------------\u001b[0m\u001b[0m 18.12 MB/60.98 MB\n",
      "\u001b[2K\u001b[2A\u001b[37m⠙\u001b[0m \u001b[2mPreparing packages...\u001b[0m (10/12)----\u001b[0m\u001b[0m 12.94 MB/104.96 MB                  \u001b[2A\n",
      "\u001b[2mtorch     \u001b[0m \u001b[32m----------\u001b[2m--------------------\u001b[0m\u001b[0m 18.58 MB/60.98 MB\n",
      "\u001b[2K\u001b[2A\u001b[37m⠙\u001b[0m \u001b[2mPreparing packages...\u001b[0m (10/12)----\u001b[0m\u001b[0m 13.23 MB/104.96 MB                  \u001b[2A\n",
      "\u001b[2mtorch     \u001b[0m \u001b[32m----------\u001b[2m--------------------\u001b[0m\u001b[0m 18.84 MB/60.98 MB\n",
      "\u001b[2K\u001b[2A\u001b[37m⠙\u001b[0m \u001b[2mPreparing packages...\u001b[0m (10/12)----\u001b[0m\u001b[0m 13.66 MB/104.96 MB                  \u001b[2A\n",
      "\u001b[2mtorch     \u001b[0m \u001b[32m----------\u001b[2m--------------------\u001b[0m\u001b[0m 19.05 MB/60.98 MB\n",
      "\u001b[2K\u001b[2A\u001b[37m⠹\u001b[0m \u001b[2mPreparing packages...\u001b[0m (10/12)----\u001b[0m\u001b[0m 13.68 MB/104.96 MB                  \u001b[2A\n",
      "\u001b[2mtorch     \u001b[0m \u001b[32m----------\u001b[2m--------------------\u001b[0m\u001b[0m 19.32 MB/60.98 MB\n",
      "\u001b[2K\u001b[2A\u001b[37m⠹\u001b[0m \u001b[2mPreparing packages...\u001b[0m (10/12)----\u001b[0m\u001b[0m 14.02 MB/104.96 MB                  \u001b[2A\n",
      "\u001b[2mtorch     \u001b[0m \u001b[32m----------\u001b[2m--------------------\u001b[0m\u001b[0m 19.99 MB/60.98 MB\n",
      "\u001b[2K\u001b[2A\u001b[37m⠹\u001b[0m \u001b[2mPreparing packages...\u001b[0m (10/12)----\u001b[0m\u001b[0m 14.43 MB/104.96 MB                  \u001b[2A\n",
      "\u001b[2mtorch     \u001b[0m \u001b[32m-----------\u001b[2m-------------------\u001b[0m\u001b[0m 20.35 MB/60.98 MB\n",
      "\u001b[2K\u001b[2A\u001b[37m⠹\u001b[0m \u001b[2mPreparing packages...\u001b[0m (10/12)----\u001b[0m\u001b[0m 14.89 MB/104.96 MB                  \u001b[2A\n",
      "\u001b[2mtorch     \u001b[0m \u001b[32m-----------\u001b[2m-------------------\u001b[0m\u001b[0m 20.74 MB/60.98 MB\n",
      "\u001b[2K\u001b[2A\u001b[37m⠸\u001b[0m \u001b[2mPreparing packages...\u001b[0m (10/12)----\u001b[0m\u001b[0m 15.30 MB/104.96 MB                  \u001b[2A\n",
      "\u001b[2mtorch     \u001b[0m \u001b[32m-----------\u001b[2m-------------------\u001b[0m\u001b[0m 21.14 MB/60.98 MB\n",
      "\u001b[2K\u001b[2A\u001b[37m⠸\u001b[0m \u001b[2mPreparing packages...\u001b[0m (10/12)----\u001b[0m\u001b[0m 15.66 MB/104.96 MB                  \u001b[2A\n",
      "\u001b[2mtorch     \u001b[0m \u001b[32m-----------\u001b[2m-------------------\u001b[0m\u001b[0m 21.57 MB/60.98 MB\n",
      "\u001b[2K\u001b[2A\u001b[37m⠸\u001b[0m \u001b[2mPreparing packages...\u001b[0m (10/12)----\u001b[0m\u001b[0m 16.09 MB/104.96 MB                  \u001b[2A\n",
      "\u001b[2mtorch     \u001b[0m \u001b[32m-----------\u001b[2m-------------------\u001b[0m\u001b[0m 22.02 MB/60.98 MB\n",
      "\u001b[2K\u001b[2A\u001b[37m⠸\u001b[0m \u001b[2mPreparing packages...\u001b[0m (10/12)----\u001b[0m\u001b[0m 16.48 MB/104.96 MB                  \u001b[2A\n",
      "\u001b[2mtorch     \u001b[0m \u001b[32m------------\u001b[2m------------------\u001b[0m\u001b[0m 22.44 MB/60.98 MB\n",
      "\u001b[2K\u001b[2A\u001b[37m⠼\u001b[0m \u001b[2mPreparing packages...\u001b[0m (10/12)----\u001b[0m\u001b[0m 16.86 MB/104.96 MB                  \u001b[2A\n",
      "\u001b[2mtorch     \u001b[0m \u001b[32m------------\u001b[2m------------------\u001b[0m\u001b[0m 22.79 MB/60.98 MB\n",
      "\u001b[2K\u001b[2A\u001b[37m⠼\u001b[0m \u001b[2mPreparing packages...\u001b[0m (10/12)----\u001b[0m\u001b[0m 17.23 MB/104.96 MB                  \u001b[2A\n",
      "\u001b[2mtorch     \u001b[0m \u001b[32m------------\u001b[2m------------------\u001b[0m\u001b[0m 23.05 MB/60.98 MB\n",
      "\u001b[2K\u001b[2A\u001b[37m⠼\u001b[0m \u001b[2mPreparing packages...\u001b[0m (10/12)----\u001b[0m\u001b[0m 17.63 MB/104.96 MB                  \u001b[2A\n",
      "\u001b[2mtorch     \u001b[0m \u001b[32m------------\u001b[2m------------------\u001b[0m\u001b[0m 23.76 MB/60.98 MB\n",
      "\u001b[2K\u001b[2A\u001b[37m⠼\u001b[0m \u001b[2mPreparing packages...\u001b[0m (10/12)----\u001b[0m\u001b[0m 18.13 MB/104.96 MB                  \u001b[2A\n",
      "\u001b[2mtorch     \u001b[0m \u001b[32m------------\u001b[2m------------------\u001b[0m\u001b[0m 24.13 MB/60.98 MB\n",
      "\u001b[2K\u001b[2A\u001b[37m⠴\u001b[0m \u001b[2mPreparing packages...\u001b[0m (10/12)----\u001b[0m\u001b[0m 18.46 MB/104.96 MB                  \u001b[2A\n",
      "\u001b[2mtorch     \u001b[0m \u001b[32m-------------\u001b[2m-----------------\u001b[0m\u001b[0m 24.70 MB/60.98 MB\n",
      "\u001b[2K\u001b[2A\u001b[37m⠴\u001b[0m \u001b[2mPreparing packages...\u001b[0m (10/12)----\u001b[0m\u001b[0m 19.05 MB/104.96 MB                  \u001b[2A\n",
      "\u001b[2mtorch     \u001b[0m \u001b[32m-------------\u001b[2m-----------------\u001b[0m\u001b[0m 25.28 MB/60.98 MB\n",
      "\u001b[2K\u001b[2A\u001b[37m⠴\u001b[0m \u001b[2mPreparing packages...\u001b[0m (10/12)----\u001b[0m\u001b[0m 19.58 MB/104.96 MB                  \u001b[2A\n",
      "\u001b[2mtorch     \u001b[0m \u001b[32m-------------\u001b[2m-----------------\u001b[0m\u001b[0m 25.87 MB/60.98 MB\n",
      "\u001b[2K\u001b[2A\u001b[37m⠴\u001b[0m \u001b[2mPreparing packages...\u001b[0m (10/12)----\u001b[0m\u001b[0m 20.12 MB/104.96 MB                  \u001b[2A\n",
      "\u001b[2mtorch     \u001b[0m \u001b[32m-------------\u001b[2m-----------------\u001b[0m\u001b[0m 26.38 MB/60.98 MB\n",
      "\u001b[2K\u001b[2A\u001b[37m⠦\u001b[0m \u001b[2mPreparing packages...\u001b[0m (10/12)----\u001b[0m\u001b[0m 20.57 MB/104.96 MB                  \u001b[2A\n",
      "\u001b[2mtorch     \u001b[0m \u001b[32m--------------\u001b[2m----------------\u001b[0m\u001b[0m 26.93 MB/60.98 MB\n",
      "\u001b[2K\u001b[2A\u001b[37m⠦\u001b[0m \u001b[2mPreparing packages...\u001b[0m (10/12)----\u001b[0m\u001b[0m 21.14 MB/104.96 MB                  \u001b[2A\n",
      "\u001b[2mtorch     \u001b[0m \u001b[32m--------------\u001b[2m----------------\u001b[0m\u001b[0m 27.20 MB/60.98 MB\n",
      "\u001b[2K\u001b[2A\u001b[37m⠦\u001b[0m \u001b[2mPreparing packages...\u001b[0m (10/12)----\u001b[0m\u001b[0m 21.38 MB/104.96 MB                  \u001b[2A\n",
      "\u001b[2mtorch     \u001b[0m \u001b[32m--------------\u001b[2m----------------\u001b[0m\u001b[0m 27.97 MB/60.98 MB\n",
      "\u001b[2K\u001b[2A\u001b[37m⠦\u001b[0m \u001b[2mPreparing packages...\u001b[0m (10/12)----\u001b[0m\u001b[0m 22.20 MB/104.96 MB                  \u001b[2A\n",
      "\u001b[2mtorch     \u001b[0m \u001b[32m---------------\u001b[2m---------------\u001b[0m\u001b[0m 28.51 MB/60.98 MB\n",
      "\u001b[2K\u001b[2A\u001b[37m⠧\u001b[0m \u001b[2mPreparing packages...\u001b[0m (10/12)----\u001b[0m\u001b[0m 22.69 MB/104.96 MB                  \u001b[2A\n",
      "\u001b[2mtorch     \u001b[0m \u001b[32m---------------\u001b[2m---------------\u001b[0m\u001b[0m 29.25 MB/60.98 MB\n",
      "\u001b[2K\u001b[2A\u001b[37m⠧\u001b[0m \u001b[2mPreparing packages...\u001b[0m (10/12)----\u001b[0m\u001b[0m 23.44 MB/104.96 MB                  \u001b[2A\n",
      "\u001b[2mtorch     \u001b[0m \u001b[32m---------------\u001b[2m---------------\u001b[0m\u001b[0m 29.75 MB/60.98 MB\n",
      "\u001b[2K\u001b[2A\u001b[37m⠧\u001b[0m \u001b[2mPreparing packages...\u001b[0m (10/12)----\u001b[0m\u001b[0m 23.92 MB/104.96 MB                  \u001b[2A\n",
      "\u001b[2mtorch     \u001b[0m \u001b[32m---------------\u001b[2m---------------\u001b[0m\u001b[0m 30.21 MB/60.98 MB\n",
      "\u001b[2K\u001b[2A\u001b[37m⠧\u001b[0m \u001b[2mPreparing packages...\u001b[0m (10/12)----\u001b[0m\u001b[0m 24.36 MB/104.96 MB                  \u001b[2A\n",
      "\u001b[2mtorch     \u001b[0m \u001b[32m----------------\u001b[2m--------------\u001b[0m\u001b[0m 31.06 MB/60.98 MB\n",
      "\u001b[2K\u001b[2A\u001b[37m⠇\u001b[0m \u001b[2mPreparing packages...\u001b[0m (10/12)----\u001b[0m\u001b[0m 25.23 MB/104.96 MB                  \u001b[2A\n",
      "\u001b[2mtorch     \u001b[0m \u001b[32m----------------\u001b[2m--------------\u001b[0m\u001b[0m 31.80 MB/60.98 MB\n",
      "\u001b[2K\u001b[2A\u001b[37m⠇\u001b[0m \u001b[2mPreparing packages...\u001b[0m (10/12)----\u001b[0m\u001b[0m 26.08 MB/104.96 MB                  \u001b[2A\n",
      "\u001b[2mtorch     \u001b[0m \u001b[32m----------------\u001b[2m--------------\u001b[0m\u001b[0m 32.34 MB/60.98 MB\n",
      "\u001b[2K\u001b[2A\u001b[37m⠇\u001b[0m \u001b[2mPreparing packages...\u001b[0m (10/12)----\u001b[0m\u001b[0m 26.62 MB/104.96 MB                  \u001b[2A\n",
      "\u001b[2mtorch     \u001b[0m \u001b[32m-----------------\u001b[2m-------------\u001b[0m\u001b[0m 32.62 MB/60.98 MB\n",
      "\u001b[2K\u001b[2A\u001b[37m⠇\u001b[0m \u001b[2mPreparing packages...\u001b[0m (10/12)----\u001b[0m\u001b[0m 27.34 MB/104.96 MB                  \u001b[2A\n",
      "\u001b[2mtorch     \u001b[0m \u001b[32m-----------------\u001b[2m-------------\u001b[0m\u001b[0m 32.64 MB/60.98 MB\n",
      "\u001b[2K\u001b[2A\u001b[37m⠋\u001b[0m \u001b[2mPreparing packages...\u001b[0m (10/12)----\u001b[0m\u001b[0m 27.49 MB/104.96 MB                  \u001b[2A\n",
      "\u001b[2mtorch     \u001b[0m \u001b[32m-----------------\u001b[2m-------------\u001b[0m\u001b[0m 33.88 MB/60.98 MB\n",
      "\u001b[2K\u001b[2A\u001b[37m⠋\u001b[0m \u001b[2mPreparing packages...\u001b[0m (10/12)----\u001b[0m\u001b[0m 28.23 MB/104.96 MB                  \u001b[2A\n",
      "\u001b[2mtorch     \u001b[0m \u001b[32m-----------------\u001b[2m-------------\u001b[0m\u001b[0m 34.32 MB/60.98 MB\n",
      "\u001b[2K\u001b[2A\u001b[37m⠋\u001b[0m \u001b[2mPreparing packages...\u001b[0m (10/12)----\u001b[0m\u001b[0m 28.38 MB/104.96 MB                  \u001b[2A\n",
      "\u001b[2mtorch     \u001b[0m \u001b[32m------------------\u001b[2m------------\u001b[0m\u001b[0m 34.77 MB/60.98 MB\n",
      "\u001b[2K\u001b[2A\u001b[37m⠋\u001b[0m \u001b[2mPreparing packages...\u001b[0m (10/12)----\u001b[0m\u001b[0m 28.85 MB/104.96 MB                  \u001b[2A\n",
      "\u001b[2mtorch     \u001b[0m \u001b[32m------------------\u001b[2m------------\u001b[0m\u001b[0m 35.98 MB/60.98 MB\n",
      "\u001b[2K\u001b[2A\u001b[37m⠙\u001b[0m \u001b[2mPreparing packages...\u001b[0m (10/12)----\u001b[0m\u001b[0m 30.00 MB/104.96 MB                  \u001b[2A\n",
      "\u001b[2mtorch     \u001b[0m \u001b[32m------------------\u001b[2m------------\u001b[0m\u001b[0m 36.09 MB/60.98 MB\n",
      "\u001b[2K\u001b[2A\u001b[37m⠙\u001b[0m \u001b[2mPreparing packages...\u001b[0m (10/12)----\u001b[0m\u001b[0m 30.60 MB/104.96 MB                  \u001b[2A\n",
      "\u001b[2mtorch     \u001b[0m \u001b[32m-------------------\u001b[2m-----------\u001b[0m\u001b[0m 36.98 MB/60.98 MB\n",
      "\u001b[2K\u001b[2A\u001b[37m⠙\u001b[0m \u001b[2mPreparing packages...\u001b[0m (10/12)----\u001b[0m\u001b[0m 31.75 MB/104.96 MB                  \u001b[2A\n",
      "\u001b[2mtorch     \u001b[0m \u001b[32m-------------------\u001b[2m-----------\u001b[0m\u001b[0m 37.75 MB/60.98 MB\n",
      "\u001b[2K\u001b[2A\u001b[37m⠙\u001b[0m \u001b[2mPreparing packages...\u001b[0m (10/12)----\u001b[0m\u001b[0m 32.41 MB/104.96 MB                  \u001b[2A\n",
      "\u001b[2mtorch     \u001b[0m \u001b[32m-------------------\u001b[2m-----------\u001b[0m\u001b[0m 38.50 MB/60.98 MB\n",
      "\u001b[2K\u001b[2A\u001b[37m⠹\u001b[0m \u001b[2mPreparing packages...\u001b[0m (10/12)----\u001b[0m\u001b[0m 33.40 MB/104.96 MB                  \u001b[2A\n",
      "\u001b[2mtorch     \u001b[0m \u001b[32m--------------------\u001b[2m----------\u001b[0m\u001b[0m 38.93 MB/60.98 MB\n",
      "\u001b[2K\u001b[2A\u001b[37m⠹\u001b[0m \u001b[2mPreparing packages...\u001b[0m (10/12)----\u001b[0m\u001b[0m 34.01 MB/104.96 MB                  \u001b[2A\n",
      "\u001b[2mtorch     \u001b[0m \u001b[32m--------------------\u001b[2m----------\u001b[0m\u001b[0m 39.70 MB/60.98 MB\n",
      "\u001b[2K\u001b[2A\u001b[37m⠹\u001b[0m \u001b[2mPreparing packages...\u001b[0m (10/12)----\u001b[0m\u001b[0m 34.93 MB/104.96 MB                  \u001b[2A\n",
      "\u001b[2mtorch     \u001b[0m \u001b[32m--------------------\u001b[2m----------\u001b[0m\u001b[0m 40.20 MB/60.98 MB\n",
      "\u001b[2K\u001b[2A\u001b[37m⠹\u001b[0m \u001b[2mPreparing packages...\u001b[0m (10/12)----\u001b[0m\u001b[0m 35.40 MB/104.96 MB                  \u001b[2A\n",
      "\u001b[2mtorch     \u001b[0m \u001b[32m---------------------\u001b[2m---------\u001b[0m\u001b[0m 40.94 MB/60.98 MB\n",
      "\u001b[2K\u001b[2A\u001b[37m⠸\u001b[0m \u001b[2mPreparing packages...\u001b[0m (10/12)----\u001b[0m\u001b[0m 36.34 MB/104.96 MB                  \u001b[2A\n",
      "\u001b[2mtorch     \u001b[0m \u001b[32m---------------------\u001b[2m---------\u001b[0m\u001b[0m 41.68 MB/60.98 MB\n",
      "\u001b[2K\u001b[2A\u001b[37m⠸\u001b[0m \u001b[2mPreparing packages...\u001b[0m (10/12)----\u001b[0m\u001b[0m 37.30 MB/104.96 MB                  \u001b[2A\n",
      "\u001b[2mtorch     \u001b[0m \u001b[32m---------------------\u001b[2m---------\u001b[0m\u001b[0m 42.05 MB/60.98 MB\n",
      "\u001b[2K\u001b[2A\u001b[37m⠸\u001b[0m \u001b[2mPreparing packages...\u001b[0m (10/12)----\u001b[0m\u001b[0m 37.66 MB/104.96 MB                  \u001b[2A\n",
      "\u001b[2mtorch     \u001b[0m \u001b[32m---------------------\u001b[2m---------\u001b[0m\u001b[0m 42.55 MB/60.98 MB\n",
      "\u001b[2K\u001b[2A\u001b[37m⠸\u001b[0m \u001b[2mPreparing packages...\u001b[0m (10/12)----\u001b[0m\u001b[0m 38.22 MB/104.96 MB                  \u001b[2A\n",
      "\u001b[2mtorch     \u001b[0m \u001b[32m----------------------\u001b[2m--------\u001b[0m\u001b[0m 43.35 MB/60.98 MB\n",
      "\u001b[2K\u001b[2A\u001b[37m⠼\u001b[0m \u001b[2mPreparing packages...\u001b[0m (10/12)----\u001b[0m\u001b[0m 39.15 MB/104.96 MB                  \u001b[2A\n",
      "\u001b[2mtorch     \u001b[0m \u001b[32m----------------------\u001b[2m--------\u001b[0m\u001b[0m 44.10 MB/60.98 MB\n",
      "\u001b[2K\u001b[2A\u001b[37m⠼\u001b[0m \u001b[2mPreparing packages...\u001b[0m (10/12)----\u001b[0m\u001b[0m 39.88 MB/104.96 MB                  \u001b[2A\n",
      "\u001b[2mtorch     \u001b[0m \u001b[32m-----------------------\u001b[2m-------\u001b[0m\u001b[0m 44.82 MB/60.98 MB\n",
      "\u001b[2K\u001b[2A\u001b[37m⠼\u001b[0m \u001b[2mPreparing packages...\u001b[0m (10/12)----\u001b[0m\u001b[0m 40.63 MB/104.96 MB                  \u001b[2A\n",
      "\u001b[2mtorch     \u001b[0m \u001b[32m-----------------------\u001b[2m-------\u001b[0m\u001b[0m 45.15 MB/60.98 MB\n",
      "\u001b[2K\u001b[2A\u001b[37m⠼\u001b[0m \u001b[2mPreparing packages...\u001b[0m (10/12)----\u001b[0m\u001b[0m 41.07 MB/104.96 MB                  \u001b[2A\n",
      "\u001b[2mtorch     \u001b[0m \u001b[32m-----------------------\u001b[2m-------\u001b[0m\u001b[0m 46.02 MB/60.98 MB\n",
      "\u001b[2K\u001b[2A\u001b[37m⠴\u001b[0m \u001b[2mPreparing packages...\u001b[0m (10/12)----\u001b[0m\u001b[0m 41.07 MB/104.96 MB                  \u001b[2A\n",
      "\u001b[2mtorch     \u001b[0m \u001b[32m-----------------------\u001b[2m-------\u001b[0m\u001b[0m 46.58 MB/60.98 MB\n",
      "\u001b[2K\u001b[2A\u001b[37m⠴\u001b[0m \u001b[2mPreparing packages...\u001b[0m (10/12)----\u001b[0m\u001b[0m 41.86 MB/104.96 MB                  \u001b[2A\n",
      "\u001b[2mtorch     \u001b[0m \u001b[32m------------------------\u001b[2m------\u001b[0m\u001b[0m 47.62 MB/60.98 MB\n",
      "\u001b[2K\u001b[2A\u001b[37m⠴\u001b[0m \u001b[2mPreparing packages...\u001b[0m (10/12)----\u001b[0m\u001b[0m 43.88 MB/104.96 MB                  \u001b[2A\n",
      "\u001b[2mtorch     \u001b[0m \u001b[32m------------------------\u001b[2m------\u001b[0m\u001b[0m 47.72 MB/60.98 MB\n",
      "\u001b[2K\u001b[2A\u001b[37m⠴\u001b[0m \u001b[2mPreparing packages...\u001b[0m (10/12)----\u001b[0m\u001b[0m 43.90 MB/104.96 MB                  \u001b[2A\n",
      "\u001b[2mtorch     \u001b[0m \u001b[32m------------------------\u001b[2m------\u001b[0m\u001b[0m 47.74 MB/60.98 MB\n",
      "\u001b[2K\u001b[2A\u001b[37m⠦\u001b[0m \u001b[2mPreparing packages...\u001b[0m (10/12)----\u001b[0m\u001b[0m 43.90 MB/104.96 MB                  \u001b[2A\n",
      "\u001b[2mtorch     \u001b[0m \u001b[32m------------------------\u001b[2m------\u001b[0m\u001b[0m 48.07 MB/60.98 MB\n",
      "\u001b[2K\u001b[2A\u001b[37m⠦\u001b[0m \u001b[2mPreparing packages...\u001b[0m (10/12)----\u001b[0m\u001b[0m 44.14 MB/104.96 MB                  \u001b[2A\n",
      "\u001b[2mtorch     \u001b[0m \u001b[32m-------------------------\u001b[2m-----\u001b[0m\u001b[0m 49.58 MB/60.98 MB\n",
      "\u001b[2K\u001b[2A\u001b[37m⠦\u001b[0m \u001b[2mPreparing packages...\u001b[0m (10/12)----\u001b[0m\u001b[0m 45.63 MB/104.96 MB                  \u001b[2A\n",
      "\u001b[2mtorch     \u001b[0m \u001b[32m-------------------------\u001b[2m-----\u001b[0m\u001b[0m 50.18 MB/60.98 MB\n",
      "\u001b[2K\u001b[2A\u001b[37m⠦\u001b[0m \u001b[2mPreparing packages...\u001b[0m (10/12)----\u001b[0m\u001b[0m 46.22 MB/104.96 MB                  \u001b[2A\n",
      "\u001b[2mtorch     \u001b[0m \u001b[32m--------------------------\u001b[2m----\u001b[0m\u001b[0m 50.98 MB/60.98 MB\n",
      "\u001b[2K\u001b[2A\u001b[37m⠧\u001b[0m \u001b[2mPreparing packages...\u001b[0m (10/12)----\u001b[0m\u001b[0m 47.67 MB/104.96 MB                  \u001b[2A\n",
      "\u001b[2mtorch     \u001b[0m \u001b[32m--------------------------\u001b[2m----\u001b[0m\u001b[0m 51.53 MB/60.98 MB\n",
      "\u001b[2K\u001b[2A\u001b[37m⠧\u001b[0m \u001b[2mPreparing packages...\u001b[0m (10/12)----\u001b[0m\u001b[0m 48.46 MB/104.96 MB                  \u001b[2A\n",
      "\u001b[2mtorch     \u001b[0m \u001b[32m--------------------------\u001b[2m----\u001b[0m\u001b[0m 52.26 MB/60.98 MB\n",
      "\u001b[2K\u001b[2A\u001b[37m⠧\u001b[0m \u001b[2mPreparing packages...\u001b[0m (10/12)----\u001b[0m\u001b[0m 49.35 MB/104.96 MB                  \u001b[2A\n",
      "\u001b[2mtorch     \u001b[0m \u001b[32m--------------------------\u001b[2m----\u001b[0m\u001b[0m 52.75 MB/60.98 MB\n",
      "\u001b[2K\u001b[2A\u001b[37m⠧\u001b[0m \u001b[2mPreparing packages...\u001b[0m (10/12)----\u001b[0m\u001b[0m 50.09 MB/104.96 MB                  \u001b[2A\n",
      "\u001b[2mtorch     \u001b[0m \u001b[32m---------------------------\u001b[2m---\u001b[0m\u001b[0m 53.31 MB/60.98 MB\n",
      "\u001b[2K\u001b[2A\u001b[37m⠧\u001b[0m \u001b[2mPreparing packages...\u001b[0m (10/12)----\u001b[0m\u001b[0m 50.78 MB/104.96 MB                  \u001b[2A\n",
      "\u001b[2mtorch     \u001b[0m \u001b[32m---------------------------\u001b[2m---\u001b[0m\u001b[0m 53.90 MB/60.98 MB\n",
      "\u001b[2K\u001b[2A\u001b[37m⠇\u001b[0m \u001b[2mPreparing packages...\u001b[0m (10/12)----\u001b[0m\u001b[0m 51.49 MB/104.96 MB                  \u001b[2A\n",
      "\u001b[2mtorch     \u001b[0m \u001b[32m---------------------------\u001b[2m---\u001b[0m\u001b[0m 54.67 MB/60.98 MB\n",
      "\u001b[2K\u001b[2A\u001b[37m⠇\u001b[0m \u001b[2mPreparing packages...\u001b[0m (10/12)----\u001b[0m\u001b[0m 51.84 MB/104.96 MB                  \u001b[2A\n",
      "\u001b[2mtorch     \u001b[0m \u001b[32m----------------------------\u001b[2m--\u001b[0m\u001b[0m 55.30 MB/60.98 MB\n",
      "\u001b[2K\u001b[2A\u001b[37m⠇\u001b[0m \u001b[2mPreparing packages...\u001b[0m (10/12)----\u001b[0m\u001b[0m 52.38 MB/104.96 MB                  \u001b[2A\n",
      "\u001b[2mtorch     \u001b[0m \u001b[32m----------------------------\u001b[2m--\u001b[0m\u001b[0m 56.20 MB/60.98 MB\n",
      "\u001b[2K\u001b[2A\u001b[37m⠇\u001b[0m \u001b[2mPreparing packages...\u001b[0m (10/12)----\u001b[0m\u001b[0m 54.38 MB/104.96 MB                  \u001b[2A\n",
      "\u001b[2mtorch     \u001b[0m \u001b[32m----------------------------\u001b[2m--\u001b[0m\u001b[0m 56.68 MB/60.98 MB\n",
      "\u001b[2K\u001b[2A\u001b[37m⠋\u001b[0m \u001b[2mPreparing packages...\u001b[0m (10/12)----\u001b[0m\u001b[0m 55.11 MB/104.96 MB                  \u001b[2A\n",
      "\u001b[2mtorch     \u001b[0m \u001b[32m----------------------------\u001b[2m--\u001b[0m\u001b[0m 56.83 MB/60.98 MB\n",
      "\u001b[2K\u001b[2A\u001b[37m⠋\u001b[0m \u001b[2mPreparing packages...\u001b[0m (10/12)----\u001b[0m\u001b[0m 55.11 MB/104.96 MB                  \u001b[2A\n",
      "\u001b[2mtorch     \u001b[0m \u001b[32m-----------------------------\u001b[2m-\u001b[0m\u001b[0m 57.18 MB/60.98 MB\n",
      "\u001b[2K\u001b[2A\u001b[37m⠋\u001b[0m \u001b[2mPreparing packages...\u001b[0m (10/12)----\u001b[0m\u001b[0m 55.19 MB/104.96 MB                  \u001b[2A\n",
      "\u001b[2mtorch     \u001b[0m \u001b[32m-----------------------------\u001b[2m-\u001b[0m\u001b[0m 57.75 MB/60.98 MB\n",
      "\u001b[2K\u001b[2A\u001b[37m⠙\u001b[0m \u001b[2mPreparing packages...\u001b[0m (10/12)----\u001b[0m\u001b[0m 55.21 MB/104.96 MB                  \u001b[2A\n",
      "\u001b[2mtorch     \u001b[0m \u001b[32m-----------------------------\u001b[2m-\u001b[0m\u001b[0m 58.07 MB/60.98 MB\n",
      "\u001b[2K\u001b[2A\u001b[37m⠙\u001b[0m \u001b[2mPreparing packages...\u001b[0m (10/12)----\u001b[0m\u001b[0m 56.88 MB/104.96 MB                  \u001b[2A\n",
      "\u001b[2mtorch     \u001b[0m \u001b[32m-----------------------------\u001b[2m-\u001b[0m\u001b[0m 58.17 MB/60.98 MB\n",
      "\u001b[2K\u001b[2A\u001b[37m⠙\u001b[0m \u001b[2mPreparing packages...\u001b[0m (10/12)----\u001b[0m\u001b[0m 57.08 MB/104.96 MB                  \u001b[2A\n",
      "\u001b[2mtorch     \u001b[0m \u001b[32m-----------------------------\u001b[2m-\u001b[0m\u001b[0m 58.88 MB/60.98 MB\n",
      "\u001b[2K\u001b[2A\u001b[37m⠙\u001b[0m \u001b[2mPreparing packages...\u001b[0m (10/12)----\u001b[0m\u001b[0m 58.34 MB/104.96 MB                  \u001b[2A\n",
      "\u001b[2mtorch     \u001b[0m \u001b[32m------------------------------\u001b[2m\u001b[0m\u001b[0m 59.77 MB/60.98 MB\n",
      "\u001b[2K\u001b[2A\u001b[37m⠙\u001b[0m \u001b[2mPreparing packages...\u001b[0m (10/12)----\u001b[0m\u001b[0m 59.16 MB/104.96 MB                  \u001b[2A\n",
      "\u001b[2mtorch     \u001b[0m \u001b[32m------------------------------\u001b[2m\u001b[0m\u001b[0m 60.38 MB/60.98 MB\n",
      "\u001b[2K\u001b[2A\u001b[37m⠹\u001b[0m \u001b[2mPreparing packages...\u001b[0m (10/12)----\u001b[0m\u001b[0m 59.91 MB/104.96 MB                  \u001b[2A\n",
      "\u001b[2mtorch     \u001b[0m \u001b[32m------------------------------\u001b[2m\u001b[0m\u001b[0m 60.57 MB/60.98 MB\n",
      "\u001b[2K\u001b[2A\u001b[37m⠹\u001b[0m \u001b[2mPreparing packages...\u001b[0m (10/12)----\u001b[0m\u001b[0m 60.67 MB/104.96 MB                  \u001b[2A\n",
      "\u001b[2K\u001b[1A\u001b[37m⠹\u001b[0m \u001b[2mPreparing packages...\u001b[0m (10/12)----\u001b[0m\u001b[0m 61.35 MB/104.96 MB                  \u001b[1A\n",
      "\u001b[2K\u001b[1A\u001b[37m⠹\u001b[0m \u001b[2mPreparing packages...\u001b[0m (10/12)----\u001b[0m\u001b[0m 61.37 MB/104.96 MB                  \u001b[1A\n",
      "\u001b[2K\u001b[1A\u001b[37m⠸\u001b[0m \u001b[2mPreparing packages...\u001b[0m (11/12)----\u001b[0m\u001b[0m 62.55 MB/104.96 MB                  \u001b[1A\n",
      "\u001b[2K\u001b[1A\u001b[37m⠸\u001b[0m \u001b[2mPreparing packages...\u001b[0m (11/12)----\u001b[0m\u001b[0m 63.21 MB/104.96 MB                  \u001b[1A\n",
      "\u001b[2K\u001b[1A\u001b[37m⠸\u001b[0m \u001b[2mPreparing packages...\u001b[0m (11/12)----\u001b[0m\u001b[0m 63.37 MB/104.96 MB                  \u001b[1A\n",
      "\u001b[2K\u001b[1A\u001b[37m⠸\u001b[0m \u001b[2mPreparing packages...\u001b[0m (11/12)----\u001b[0m\u001b[0m 64.09 MB/104.96 MB                  \u001b[1A\n",
      "\u001b[2K\u001b[1A\u001b[37m⠸\u001b[0m \u001b[2mPreparing packages...\u001b[0m (11/12)----\u001b[0m\u001b[0m 64.60 MB/104.96 MB                  \u001b[1A\n",
      "\u001b[2K\u001b[1A\u001b[37m⠼\u001b[0m \u001b[2mPreparing packages...\u001b[0m (11/12)----\u001b[0m\u001b[0m 65.11 MB/104.96 MB                  \u001b[1A\n",
      "\u001b[2K\u001b[1A\u001b[37m⠼\u001b[0m \u001b[2mPreparing packages...\u001b[0m (11/12)----\u001b[0m\u001b[0m 66.98 MB/104.96 MB                  \u001b[1A\n",
      "\u001b[2K\u001b[1A\u001b[37m⠼\u001b[0m \u001b[2mPreparing packages...\u001b[0m (11/12)----\u001b[0m\u001b[0m 68.35 MB/104.96 MB                  \u001b[1A\n",
      "\u001b[2K\u001b[1A\u001b[37m⠼\u001b[0m \u001b[2mPreparing packages...\u001b[0m (11/12)----\u001b[0m\u001b[0m 69.27 MB/104.96 MB                  \u001b[1A\n",
      "\u001b[2K\u001b[1A\u001b[37m⠴\u001b[0m \u001b[2mPreparing packages...\u001b[0m (11/12)----\u001b[0m\u001b[0m 70.03 MB/104.96 MB                  \u001b[1A\n",
      "\u001b[2K\u001b[1A\u001b[37m⠴\u001b[0m \u001b[2mPreparing packages...\u001b[0m (11/12)----\u001b[0m\u001b[0m 70.74 MB/104.96 MB                  \u001b[1A\n",
      "\u001b[2K\u001b[1A\u001b[37m⠴\u001b[0m \u001b[2mPreparing packages...\u001b[0m (11/12)----\u001b[0m\u001b[0m 72.04 MB/104.96 MB                  \u001b[1A\n",
      "\u001b[2K\u001b[1A\u001b[37m⠴\u001b[0m \u001b[2mPreparing packages...\u001b[0m (11/12)----\u001b[0m\u001b[0m 72.66 MB/104.96 MB                  \u001b[1A\n",
      "\u001b[2K\u001b[1A\u001b[37m⠦\u001b[0m \u001b[2mPreparing packages...\u001b[0m (11/12)----\u001b[0m\u001b[0m 73.81 MB/104.96 MB                  \u001b[1A\n",
      "\u001b[2K\u001b[1A\u001b[37m⠦\u001b[0m \u001b[2mPreparing packages...\u001b[0m (11/12)----\u001b[0m\u001b[0m 74.89 MB/104.96 MB                  \u001b[1A\n",
      "\u001b[2K\u001b[1A\u001b[37m⠦\u001b[0m \u001b[2mPreparing packages...\u001b[0m (11/12)----\u001b[0m\u001b[0m 75.71 MB/104.96 MB                  \u001b[1A\n",
      "\u001b[2K\u001b[1A\u001b[37m⠦\u001b[0m \u001b[2mPreparing packages...\u001b[0m (11/12)----\u001b[0m\u001b[0m 76.68 MB/104.96 MB                  \u001b[1A\n",
      "\u001b[2K\u001b[1A\u001b[37m⠧\u001b[0m \u001b[2mPreparing packages...\u001b[0m (11/12)----\u001b[0m\u001b[0m 77.44 MB/104.96 MB                  \u001b[1A\n",
      "\u001b[2K\u001b[1A\u001b[37m⠧\u001b[0m \u001b[2mPreparing packages...\u001b[0m (11/12)----\u001b[0m\u001b[0m 78.72 MB/104.96 MB                  \u001b[1A\n",
      "\u001b[2K\u001b[1A\u001b[37m⠧\u001b[0m \u001b[2mPreparing packages...\u001b[0m (11/12)----\u001b[0m\u001b[0m 79.86 MB/104.96 MB                  \u001b[1A\n",
      "\u001b[2K\u001b[1A\u001b[37m⠧\u001b[0m \u001b[2mPreparing packages...\u001b[0m (11/12)----\u001b[0m\u001b[0m 81.08 MB/104.96 MB                  \u001b[1A\n",
      "\u001b[2K\u001b[1A\u001b[37m⠇\u001b[0m \u001b[2mPreparing packages...\u001b[0m (11/12)----\u001b[0m\u001b[0m 82.02 MB/104.96 MB                  \u001b[1A\n",
      "\u001b[2K\u001b[1A\u001b[37m⠇\u001b[0m \u001b[2mPreparing packages...\u001b[0m (11/12)----\u001b[0m\u001b[0m 82.95 MB/104.96 MB                  \u001b[1A\n",
      "\u001b[2K\u001b[1A\u001b[37m⠇\u001b[0m \u001b[2mPreparing packages...\u001b[0m (11/12)----\u001b[0m\u001b[0m 83.52 MB/104.96 MB                  \u001b[1A\n",
      "\u001b[2K\u001b[1A\u001b[37m⠇\u001b[0m \u001b[2mPreparing packages...\u001b[0m (11/12)----\u001b[0m\u001b[0m 83.54 MB/104.96 MB                  \u001b[1A\n",
      "\u001b[2K\u001b[1A\u001b[37m⠋\u001b[0m \u001b[2mPreparing packages...\u001b[0m (11/12)----\u001b[0m\u001b[0m 84.33 MB/104.96 MB                  \u001b[1A\n",
      "\u001b[2K\u001b[1A\u001b[37m⠋\u001b[0m \u001b[2mPreparing packages...\u001b[0m (11/12)----\u001b[0m\u001b[0m 85.92 MB/104.96 MB                  \u001b[1A\n",
      "\u001b[2K\u001b[1A\u001b[37m⠋\u001b[0m \u001b[2mPreparing packages...\u001b[0m (11/12)----\u001b[0m\u001b[0m 87.54 MB/104.96 MB                  \u001b[1A\n",
      "\u001b[2K\u001b[1A\u001b[37m⠋\u001b[0m \u001b[2mPreparing packages...\u001b[0m (11/12)----\u001b[0m\u001b[0m 88.42 MB/104.96 MB                  \u001b[1A\n",
      "\u001b[2K\u001b[1A\u001b[37m⠙\u001b[0m \u001b[2mPreparing packages...\u001b[0m (11/12)m---\u001b[0m\u001b[0m 91.19 MB/104.96 MB                  \u001b[1A\n",
      "\u001b[2K\u001b[1A\u001b[37m⠙\u001b[0m \u001b[2mPreparing packages...\u001b[0m (11/12)m---\u001b[0m\u001b[0m 92.29 MB/104.96 MB                  \u001b[1A\n",
      "\u001b[2K\u001b[1A\u001b[37m⠙\u001b[0m \u001b[2mPreparing packages...\u001b[0m (11/12)m---\u001b[0m\u001b[0m 93.81 MB/104.96 MB                  \u001b[1A\n",
      "\u001b[2K\u001b[1A\u001b[37m⠙\u001b[0m \u001b[2mPreparing packages...\u001b[0m (11/12)2m--\u001b[0m\u001b[0m 94.99 MB/104.96 MB                  \u001b[1A\n",
      "\u001b[2K\u001b[1A\u001b[37m⠹\u001b[0m \u001b[2mPreparing packages...\u001b[0m (11/12)2m--\u001b[0m\u001b[0m 95.70 MB/104.96 MB                  \u001b[1A\n",
      "\u001b[2K\u001b[1A\u001b[37m⠹\u001b[0m \u001b[2mPreparing packages...\u001b[0m (11/12)2m--\u001b[0m\u001b[0m 97.63 MB/104.96 MB                  \u001b[1A\n",
      "\u001b[2K\u001b[1A\u001b[37m⠹\u001b[0m \u001b[2mPreparing packages...\u001b[0m (11/12)[2m-\u001b[0m\u001b[0m 99.10 MB/104.96 MB                  \u001b[1A\n",
      "\u001b[2K\u001b[1A\u001b[37m⠹\u001b[0m \u001b[2mPreparing packages...\u001b[0m (11/12)[2m-\u001b[0m\u001b[0m 100.04 MB/104.96 MB                 \u001b[1A\n",
      "\u001b[2K\u001b[1A\u001b[37m⠸\u001b[0m \u001b[2mPreparing packages...\u001b[0m (11/12)\u001b[2m\u001b[0m\u001b[0m 101.74 MB/104.96 MB                 \u001b[1A\n",
      "\u001b[2K\u001b[1A\u001b[37m⠸\u001b[0m \u001b[2mPreparing packages...\u001b[0m (11/12)\u001b[2m\u001b[0m\u001b[0m 103.22 MB/104.96 MB                 \u001b[1A\n",
      "\u001b[2K\u001b[2mPrepared \u001b[1m12 packages\u001b[0m in 9.60s\u001b[0m(11/12)                                                 \u001b[1A\n",
      "\u001b[2mUninstalled \u001b[1m2 packages\u001b[0m in 108ms\u001b[0m\n",
      "\u001b[2K\u001b[2mInstalled \u001b[1m12 packages\u001b[0m in 233ms\u001b[0m                                      \u001b[0m\n",
      " \u001b[32m+\u001b[39m \u001b[1maccelerate\u001b[0m\u001b[2m==0.32.1\u001b[0m\n",
      " \u001b[32m+\u001b[39m \u001b[1mbitsandbytes\u001b[0m\u001b[2m==0.42.0\u001b[0m\n",
      " \u001b[31m-\u001b[39m \u001b[1mcertifi\u001b[0m\u001b[2m==2024.6.2\u001b[0m\n",
      " \u001b[32m+\u001b[39m \u001b[1mcertifi\u001b[0m\u001b[2m==2024.7.4\u001b[0m\n",
      " \u001b[32m+\u001b[39m \u001b[1mmpmath\u001b[0m\u001b[2m==1.3.0\u001b[0m\n",
      " \u001b[32m+\u001b[39m \u001b[1mnetworkx\u001b[0m\u001b[2m==3.3\u001b[0m\n",
      " \u001b[31m-\u001b[39m \u001b[1mnumpy\u001b[0m\u001b[2m==2.0.0\u001b[0m\n",
      " \u001b[32m+\u001b[39m \u001b[1mnumpy\u001b[0m\u001b[2m==1.26.4\u001b[0m\n",
      " \u001b[32m+\u001b[39m \u001b[1mregex\u001b[0m\u001b[2m==2024.5.15\u001b[0m\n",
      " \u001b[32m+\u001b[39m \u001b[1msafetensors\u001b[0m\u001b[2m==0.4.3\u001b[0m\n",
      " \u001b[32m+\u001b[39m \u001b[1msentencepiece\u001b[0m\u001b[2m==0.2.0\u001b[0m\n",
      " \u001b[32m+\u001b[39m \u001b[1msympy\u001b[0m\u001b[2m==1.13.0\u001b[0m\n",
      " \u001b[32m+\u001b[39m \u001b[1mtorch\u001b[0m\u001b[2m==2.3.1\u001b[0m\n",
      " \u001b[32m+\u001b[39m \u001b[1mtransformers\u001b[0m\u001b[2m==4.42.3\u001b[0m\n"
     ]
    }
   ],
   "source": [
    "!uv pip install -U transformers accelerate bitsandbytes sentencepiece\n"
   ]
  },
  {
   "cell_type": "markdown",
   "metadata": {},
   "source": [
    "# understand steps"
   ]
  },
  {
   "cell_type": "code",
   "execution_count": 4,
   "metadata": {},
   "outputs": [
    {
     "name": "stderr",
     "output_type": "stream",
     "text": [
      "Special tokens have been added in the vocabulary, make sure the associated word embeddings are fine-tuned or trained.\n",
      "Downloading shards: 100%|██████████| 2/2 [04:14<00:00, 127.38s/it]\n",
      "Loading checkpoint shards: 100%|██████████| 2/2 [00:09<00:00,  4.57s/it]\n",
      "Some parameters are on the meta device device because they were offloaded to the disk.\n"
     ]
    }
   ],
   "source": [
    "from transformers import T5Tokenizer, T5ForConditionalGeneration\n",
    "tokenizer = T5Tokenizer.from_pretrained(\"google/flan-t5-xl\")\n",
    "model = T5ForConditionalGeneration.from_pretrained(\"google/flan-t5-xl\", device_map=\"auto\")"
   ]
  },
  {
   "cell_type": "code",
   "execution_count": 5,
   "metadata": {},
   "outputs": [],
   "source": [
    "def llm(prompt):\n",
    "    input_ids = tokenizer(prompt, return_tensors=\"pt\").input_ids.to(\"cuda\")\n",
    "    outputs = model.generate(input_ids)\n",
    "    result = tokenizer.decode(outputs[0])\n",
    "    return result"
   ]
  },
  {
   "cell_type": "code",
   "execution_count": null,
   "metadata": {},
   "outputs": [],
   "source": []
  }
 ],
 "metadata": {
  "kernelspec": {
   "display_name": "env",
   "language": "python",
   "name": "python3"
  },
  "language_info": {
   "codemirror_mode": {
    "name": "ipython",
    "version": 3
   },
   "file_extension": ".py",
   "mimetype": "text/x-python",
   "name": "python",
   "nbconvert_exporter": "python",
   "pygments_lexer": "ipython3",
   "version": "3.12.4"
  }
 },
 "nbformat": 4,
 "nbformat_minor": 2
}
